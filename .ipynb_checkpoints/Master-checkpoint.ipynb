{
 "cells": [
  {
   "cell_type": "markdown",
   "metadata": {},
   "source": [
    "## This notebook contains the starter code to load a dataset "
   ]
  },
  {
   "cell_type": "markdown",
   "metadata": {},
   "source": [
    "## Data Visualization/EDA\n",
    "\n",
    "The next cell returns a pandas profile report, named 'df_profile_report', which gives detailed information regarding the columns in our dataset. Since the report is already made, we comment out the code."
   ]
  },
  {
   "cell_type": "code",
   "execution_count": 5,
   "metadata": {},
   "outputs": [],
   "source": [
    "#trying out pandas profiling\n",
    "#import pandas_profiling as pp\n",
    "#pfr = pp.ProfileReport(df)\n",
    "#pfr.to_file('df_profile_report')"
   ]
  },
  {
   "cell_type": "markdown",
   "metadata": {},
   "source": [
    "Our pandas profile report revealed that in order to run pipelines, we need to format some data first. We create a function to handle all processing needs . Here are the processing  requirements:\n",
    " * since the IPO Pricing columns are used to calculate Y1 and Y2, we cannot have any missing values in those columns. We cannot impute either, as this would impute error into our target variables, which is not appropriate. Thus, our only option is to drop rows that have missing in those columns.\n",
    " * calculate the control variables, as well as the Textual characteristics ratio values, as noted in the hints.\n",
    " * I3 has missing values, but these missing values can be researched, which is what we have done, and thus will impute the correct values in the sequence of the definition.\n",
    " \n",
    " \n",
    "Intuitively, the SIC codes are important but not conveniant to use. Due to high cardinality, they act as if they are Identification-type values, but their sequencing of numbers contain information. Therefore, we decided to bin the SIC codes into three main bins, which contains a broad grouping of all the particular industries the companies in this dataset fall into, based on the companies' SIC codes. Information regarding SIC codes were taken from https://www.sec.gov/edgar/searchedgar/companysearch.html. We originally binned into 5 classes, but two of our classes held roughly 70% of all the data, while another two groups only had 9 observations between them. Thus we decided to have 3 classes: the two containing 70% between them, and then all the other 'Bins' values grouped into a value of 'Other'. With these steps in mind, we create a function that will take in our original dataset and convert it into a format that is usable for pipelines. The function is in the module 'Configure_dataset.py'\n",
    " \n",
    " "
   ]
  },
  {
   "cell_type": "code",
   "execution_count": 1,
   "metadata": {},
   "outputs": [
    {
     "data": {
      "text/plain": [
       "Index(['C1', 'C2', 'C4', 'C7', 'Y1', 'Y2', '%_long_sentences', '%_long_words',\n",
       "       '%_positive_words', '%_negative_words', '%_uncertain_words', 'C3'',\n",
       "       'C5'', 'C6'', 'one_hot_Manufacturing', 'one_hot_Other',\n",
       "       'one_hot_Public Services', 'one_hot_Wholesale  Trade'],\n",
       "      dtype='object')"
      ]
     },
     "execution_count": 1,
     "metadata": {},
     "output_type": "execute_result"
    }
   ],
   "source": [
    "import Configure_Dataset \n",
    "df = Configure_Dataset.configure('Competition1_raw_data.xlsx')\n",
    "df.columns"
   ]
  },
  {
   "cell_type": "code",
   "execution_count": 5,
   "metadata": {},
   "outputs": [
    {
     "data": {
      "text/plain": [
       "C1                           0\n",
       "C2                           0\n",
       "C4                           0\n",
       "C7                          60\n",
       "Y1                           0\n",
       "Y2                           0\n",
       "%_long_sentences             0\n",
       "%_long_words                 2\n",
       "%_positive_words             2\n",
       "%_negative_words             2\n",
       "%_uncertain_words            2\n",
       "C3'                          0\n",
       "C5'                          0\n",
       "C6'                          0\n",
       "one_hot_Manufacturing        0\n",
       "one_hot_Other                0\n",
       "one_hot_Public Services      0\n",
       "one_hot_Wholesale  Trade     0\n",
       "dtype: int64"
      ]
     },
     "execution_count": 5,
     "metadata": {},
     "output_type": "execute_result"
    }
   ],
   "source": [
    "df.isnull().sum()"
   ]
  },
  {
   "cell_type": "code",
   "execution_count": 6,
   "metadata": {},
   "outputs": [
    {
     "data": {
      "text/html": [
       "<div>\n",
       "<style scoped>\n",
       "    .dataframe tbody tr th:only-of-type {\n",
       "        vertical-align: middle;\n",
       "    }\n",
       "\n",
       "    .dataframe tbody tr th {\n",
       "        vertical-align: top;\n",
       "    }\n",
       "\n",
       "    .dataframe thead th {\n",
       "        text-align: right;\n",
       "    }\n",
       "</style>\n",
       "<table border=\"1\" class=\"dataframe\">\n",
       "  <thead>\n",
       "    <tr style=\"text-align: right;\">\n",
       "      <th></th>\n",
       "      <th>C1</th>\n",
       "      <th>C2</th>\n",
       "      <th>C4</th>\n",
       "      <th>C7</th>\n",
       "      <th>Y1</th>\n",
       "      <th>Y2</th>\n",
       "      <th>%_long_sentences</th>\n",
       "      <th>%_long_words</th>\n",
       "      <th>%_positive_words</th>\n",
       "      <th>%_negative_words</th>\n",
       "      <th>%_uncertain_words</th>\n",
       "      <th>C3'</th>\n",
       "      <th>C5'</th>\n",
       "      <th>C6'</th>\n",
       "      <th>one_hot_Manufacturing</th>\n",
       "      <th>one_hot_Other</th>\n",
       "      <th>one_hot_Public Services</th>\n",
       "      <th>one_hot_Wholesale  Trade</th>\n",
       "    </tr>\n",
       "  </thead>\n",
       "  <tbody>\n",
       "    <tr>\n",
       "      <th>121</th>\n",
       "      <td>100.0</td>\n",
       "      <td>1.0</td>\n",
       "      <td>0.056995</td>\n",
       "      <td>1239.711</td>\n",
       "      <td>1</td>\n",
       "      <td>0</td>\n",
       "      <td>0.740854</td>\n",
       "      <td>NaN</td>\n",
       "      <td>NaN</td>\n",
       "      <td>NaN</td>\n",
       "      <td>NaN</td>\n",
       "      <td>1</td>\n",
       "      <td>1.029477</td>\n",
       "      <td>0.0</td>\n",
       "      <td>1</td>\n",
       "      <td>0</td>\n",
       "      <td>0</td>\n",
       "      <td>0</td>\n",
       "    </tr>\n",
       "    <tr>\n",
       "      <th>195</th>\n",
       "      <td>120.0</td>\n",
       "      <td>1.0</td>\n",
       "      <td>-0.011181</td>\n",
       "      <td>911.612</td>\n",
       "      <td>1</td>\n",
       "      <td>0</td>\n",
       "      <td>0.765751</td>\n",
       "      <td>NaN</td>\n",
       "      <td>NaN</td>\n",
       "      <td>NaN</td>\n",
       "      <td>NaN</td>\n",
       "      <td>0</td>\n",
       "      <td>2.821936</td>\n",
       "      <td>0.0</td>\n",
       "      <td>0</td>\n",
       "      <td>0</td>\n",
       "      <td>0</td>\n",
       "      <td>1</td>\n",
       "    </tr>\n",
       "  </tbody>\n",
       "</table>\n",
       "</div>"
      ],
      "text/plain": [
       "        C1   C2        C4        C7  Y1  Y2  %_long_sentences  %_long_words  \\\n",
       "121  100.0  1.0  0.056995  1239.711   1   0          0.740854           NaN   \n",
       "195  120.0  1.0 -0.011181   911.612   1   0          0.765751           NaN   \n",
       "\n",
       "     %_positive_words  %_negative_words  %_uncertain_words  C3'       C5'  \\\n",
       "121               NaN               NaN                NaN    1  1.029477   \n",
       "195               NaN               NaN                NaN    0  2.821936   \n",
       "\n",
       "     C6'  one_hot_Manufacturing  one_hot_Other  one_hot_Public Services  \\\n",
       "121  0.0                      1              0                        0   \n",
       "195  0.0                      0              0                        0   \n",
       "\n",
       "     one_hot_Wholesale  Trade  \n",
       "121                         0  \n",
       "195                         1  "
      ]
     },
     "execution_count": 6,
     "metadata": {},
     "output_type": "execute_result"
    }
   ],
   "source": [
    "import numpy as np\n",
    "df.loc[df['%_long_words'].isnull()]"
   ]
  },
  {
   "cell_type": "code",
   "execution_count": null,
   "metadata": {},
   "outputs": [],
   "source": []
  }
 ],
 "metadata": {
  "kernelspec": {
   "display_name": "Python 3",
   "language": "python",
   "name": "python3"
  },
  "language_info": {
   "codemirror_mode": {
    "name": "ipython",
    "version": 3
   },
   "file_extension": ".py",
   "mimetype": "text/x-python",
   "name": "python",
   "nbconvert_exporter": "python",
   "pygments_lexer": "ipython3",
   "version": "3.6.5"
  }
 },
 "nbformat": 4,
 "nbformat_minor": 2
}
