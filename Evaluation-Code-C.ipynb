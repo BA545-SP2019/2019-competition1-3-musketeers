{
 "cells": [
  {
   "cell_type": "markdown",
   "metadata": {},
   "source": [
    "# Example Evaluation Code\n",
    "\n",
    "This notebook will be very __similar__ to the code I use to evaluate your results - it is provided for __your convenience__ so that you can use it to evaluate your preprocessing results at any time before your __final submission__.\n",
    "\n",
    "Please note that the results here will __NOT__ be the same as my evaluation results.\n",
    "\n",
    "Let's start with loading the required packages."
   ]
  },
  {
   "cell_type": "code",
   "execution_count": 1,
   "metadata": {
    "collapsed": false
   },
   "outputs": [],
   "source": [
    "# import required package for data handling\n",
    "import pandas as pd\n",
    "import numpy as np\n",
    "\n",
    "# import required packages for splitting data\n",
    "from sklearn import model_selection\n",
    "from sklearn.model_selection import cross_val_score\n",
    "from sklearn.model_selection import train_test_split\n",
    "\n",
    "# import required packages for evaluating models\n",
    "from sklearn import metrics\n",
    "from sklearn.metrics import confusion_matrix\n",
    "from sklearn.metrics import classification_report\n",
    "from sklearn.metrics import roc_auc_score\n",
    "from sklearn.metrics import accuracy_score\n",
    "from sklearn.metrics import precision_recall_fscore_support\n",
    "\n",
    "# import `logistic regression` model\n",
    "from sklearn.linear_model import LogisticRegression"
   ]
  },
  {
   "cell_type": "markdown",
   "metadata": {},
   "source": [
    "Next you should load __your__ data. In this case, I am using a sample dataset (`GroupX.csv`) which contains 6 predictors (`X1 - X6`) and two target variables (`Y1, Y2`).\n",
    "\n",
    "Please make sure you change the data to your __OWN__ dataset when using this code.\n",
    "\n",
    "__NOTE__:\n",
    "1. Your dataset maybe very different from the sample dataset.\n",
    "2. Please follow this structure when submitting your dataset."
   ]
  },
  {
   "cell_type": "code",
   "execution_count": 2,
   "metadata": {
    "collapsed": false
   },
   "outputs": [
    {
     "data": {
      "text/html": [
       "<div>\n",
       "<style scoped>\n",
       "    .dataframe tbody tr th:only-of-type {\n",
       "        vertical-align: middle;\n",
       "    }\n",
       "\n",
       "    .dataframe tbody tr th {\n",
       "        vertical-align: top;\n",
       "    }\n",
       "\n",
       "    .dataframe thead th {\n",
       "        text-align: right;\n",
       "    }\n",
       "</style>\n",
       "<table border=\"1\" class=\"dataframe\">\n",
       "  <thead>\n",
       "    <tr style=\"text-align: right;\">\n",
       "      <th></th>\n",
       "      <th>0</th>\n",
       "      <th>1</th>\n",
       "      <th>2</th>\n",
       "      <th>3</th>\n",
       "      <th>4</th>\n",
       "      <th>5</th>\n",
       "      <th>6</th>\n",
       "      <th>7</th>\n",
       "      <th>8</th>\n",
       "      <th>9</th>\n",
       "      <th>10</th>\n",
       "      <th>11</th>\n",
       "      <th>12</th>\n",
       "      <th>13</th>\n",
       "      <th>0.1</th>\n",
       "      <th>Y1</th>\n",
       "      <th>Y2</th>\n",
       "    </tr>\n",
       "  </thead>\n",
       "  <tbody>\n",
       "    <tr>\n",
       "      <th>0</th>\n",
       "      <td>-0.181588</td>\n",
       "      <td>0.176554</td>\n",
       "      <td>0.058335</td>\n",
       "      <td>-0.166205</td>\n",
       "      <td>-0.073619</td>\n",
       "      <td>-0.173917</td>\n",
       "      <td>-0.282286</td>\n",
       "      <td>0.126002</td>\n",
       "      <td>0.148107</td>\n",
       "      <td>-0.153307</td>\n",
       "      <td>-0.306138</td>\n",
       "      <td>-0.091122</td>\n",
       "      <td>1.0</td>\n",
       "      <td>0.0</td>\n",
       "      <td>0.525006</td>\n",
       "      <td>0</td>\n",
       "      <td>1</td>\n",
       "    </tr>\n",
       "    <tr>\n",
       "      <th>1</th>\n",
       "      <td>0.715586</td>\n",
       "      <td>0.232307</td>\n",
       "      <td>0.704331</td>\n",
       "      <td>0.774179</td>\n",
       "      <td>-0.073671</td>\n",
       "      <td>-0.179527</td>\n",
       "      <td>-0.297471</td>\n",
       "      <td>0.187801</td>\n",
       "      <td>0.563945</td>\n",
       "      <td>-0.512394</td>\n",
       "      <td>-0.941315</td>\n",
       "      <td>0.353060</td>\n",
       "      <td>0.0</td>\n",
       "      <td>0.0</td>\n",
       "      <td>-0.497238</td>\n",
       "      <td>1</td>\n",
       "      <td>0</td>\n",
       "    </tr>\n",
       "    <tr>\n",
       "      <th>2</th>\n",
       "      <td>-0.391147</td>\n",
       "      <td>0.130054</td>\n",
       "      <td>-0.933779</td>\n",
       "      <td>-0.386523</td>\n",
       "      <td>-0.073687</td>\n",
       "      <td>-0.186885</td>\n",
       "      <td>-0.308242</td>\n",
       "      <td>0.074778</td>\n",
       "      <td>-0.499583</td>\n",
       "      <td>1.001974</td>\n",
       "      <td>2.503634</td>\n",
       "      <td>-0.727896</td>\n",
       "      <td>1.0</td>\n",
       "      <td>0.0</td>\n",
       "      <td>-0.497238</td>\n",
       "      <td>1</td>\n",
       "      <td>0</td>\n",
       "    </tr>\n",
       "    <tr>\n",
       "      <th>3</th>\n",
       "      <td>0.388150</td>\n",
       "      <td>-1.121856</td>\n",
       "      <td>-0.638142</td>\n",
       "      <td>0.200508</td>\n",
       "      <td>-0.073687</td>\n",
       "      <td>-0.186440</td>\n",
       "      <td>-0.306640</td>\n",
       "      <td>-1.195491</td>\n",
       "      <td>-0.192683</td>\n",
       "      <td>0.856662</td>\n",
       "      <td>2.390660</td>\n",
       "      <td>-0.209258</td>\n",
       "      <td>1.0</td>\n",
       "      <td>0.0</td>\n",
       "      <td>-0.497238</td>\n",
       "      <td>1</td>\n",
       "      <td>1</td>\n",
       "    </tr>\n",
       "    <tr>\n",
       "      <th>4</th>\n",
       "      <td>-0.456634</td>\n",
       "      <td>-0.506367</td>\n",
       "      <td>0.345846</td>\n",
       "      <td>-0.495743</td>\n",
       "      <td>-0.063019</td>\n",
       "      <td>0.005073</td>\n",
       "      <td>0.074631</td>\n",
       "      <td>-0.597202</td>\n",
       "      <td>0.082934</td>\n",
       "      <td>-0.130446</td>\n",
       "      <td>-0.391475</td>\n",
       "      <td>0.185601</td>\n",
       "      <td>1.0</td>\n",
       "      <td>0.0</td>\n",
       "      <td>-0.037228</td>\n",
       "      <td>0</td>\n",
       "      <td>1</td>\n",
       "    </tr>\n",
       "  </tbody>\n",
       "</table>\n",
       "</div>"
      ],
      "text/plain": [
       "          0         1         2         3         4         5         6  \\\n",
       "0 -0.181588  0.176554  0.058335 -0.166205 -0.073619 -0.173917 -0.282286   \n",
       "1  0.715586  0.232307  0.704331  0.774179 -0.073671 -0.179527 -0.297471   \n",
       "2 -0.391147  0.130054 -0.933779 -0.386523 -0.073687 -0.186885 -0.308242   \n",
       "3  0.388150 -1.121856 -0.638142  0.200508 -0.073687 -0.186440 -0.306640   \n",
       "4 -0.456634 -0.506367  0.345846 -0.495743 -0.063019  0.005073  0.074631   \n",
       "\n",
       "          7         8         9        10        11   12   13       0.1  Y1  \\\n",
       "0  0.126002  0.148107 -0.153307 -0.306138 -0.091122  1.0  0.0  0.525006   0   \n",
       "1  0.187801  0.563945 -0.512394 -0.941315  0.353060  0.0  0.0 -0.497238   1   \n",
       "2  0.074778 -0.499583  1.001974  2.503634 -0.727896  1.0  0.0 -0.497238   1   \n",
       "3 -1.195491 -0.192683  0.856662  2.390660 -0.209258  1.0  0.0 -0.497238   1   \n",
       "4 -0.597202  0.082934 -0.130446 -0.391475  0.185601  1.0  0.0 -0.037228   0   \n",
       "\n",
       "   Y2  \n",
       "0   1  \n",
       "1   0  \n",
       "2   0  \n",
       "3   1  \n",
       "4   1  "
      ]
     },
     "execution_count": 2,
     "metadata": {},
     "output_type": "execute_result"
    }
   ],
   "source": [
    "data = pd.read_csv('./Datasets/Kevin23.csv', header=0)\n",
    "data = data.drop(labels = 'Unnamed: 0', axis=1)\n",
    "data.head()"
   ]
  },
  {
   "cell_type": "markdown",
   "metadata": {},
   "source": [
    "Checking your data types and make sure it follows the data dictionary would be an important step, you can do that using the `.dtypes` attribute.\n",
    "\n",
    "__NOTE__: all __continuous__ faetures will be in `float64` data type, and all __categorical__ features will be in `int64` data type (given you already coded (per __suggest task \\#6__ in the competition document) them)."
   ]
  },
  {
   "cell_type": "code",
   "execution_count": 3,
   "metadata": {
    "collapsed": false
   },
   "outputs": [
    {
     "data": {
      "text/plain": [
       "0      float64\n",
       "1      float64\n",
       "2      float64\n",
       "3      float64\n",
       "4      float64\n",
       "5      float64\n",
       "6      float64\n",
       "7      float64\n",
       "8      float64\n",
       "9      float64\n",
       "10     float64\n",
       "11     float64\n",
       "12     float64\n",
       "13     float64\n",
       "0.1    float64\n",
       "Y1       int64\n",
       "Y2       int64\n",
       "dtype: object"
      ]
     },
     "execution_count": 3,
     "metadata": {},
     "output_type": "execute_result"
    }
   ],
   "source": [
    "data.dtypes"
   ]
  },
  {
   "cell_type": "markdown",
   "metadata": {},
   "source": [
    "Now you need to specify your targets and predictors. __NOTE__ we have two targets here (`Y1, Y2`)."
   ]
  },
  {
   "cell_type": "code",
   "execution_count": 4,
   "metadata": {
    "collapsed": true
   },
   "outputs": [],
   "source": [
    "y1 = data.Y1\n",
    "y2 = data.Y2"
   ]
  },
  {
   "cell_type": "markdown",
   "metadata": {},
   "source": [
    "Check the shape of the data."
   ]
  },
  {
   "cell_type": "code",
   "execution_count": 5,
   "metadata": {
    "collapsed": false
   },
   "outputs": [
    {
     "data": {
      "text/plain": [
       "(660, 17)"
      ]
     },
     "execution_count": 5,
     "metadata": {},
     "output_type": "execute_result"
    }
   ],
   "source": [
    "data.shape"
   ]
  },
  {
   "cell_type": "markdown",
   "metadata": {},
   "source": [
    "It is very possible that you will use different sets of the predictors for `Y1` and `Y2`. Now let's define them.\n",
    "\n",
    "First, let's define predictors for `Y1` - which will be the first 5 features in `data`."
   ]
  },
  {
   "cell_type": "code",
   "execution_count": 6,
   "metadata": {
    "collapsed": false
   },
   "outputs": [
    {
     "data": {
      "text/plain": [
       "['0',\n",
       " '1',\n",
       " '2',\n",
       " '3',\n",
       " '4',\n",
       " '5',\n",
       " '6',\n",
       " '7',\n",
       " '8',\n",
       " '9',\n",
       " '10',\n",
       " '11',\n",
       " '12',\n",
       " '13',\n",
       " '0.1']"
      ]
     },
     "execution_count": 6,
     "metadata": {},
     "output_type": "execute_result"
    }
   ],
   "source": [
    "cols = list(data.columns)\n",
    "# first 5 features \n",
    "cols[:-2]"
   ]
  },
  {
   "cell_type": "markdown",
   "metadata": {},
   "source": [
    "Use below code to select the first 5 features as predictors for `Y1`."
   ]
  },
  {
   "cell_type": "code",
   "execution_count": 7,
   "metadata": {},
   "outputs": [],
   "source": [
    "datay1 = data.drop(labels=['0.1','Y1', 'Y2'], axis = 1)"
   ]
  },
  {
   "cell_type": "code",
   "execution_count": 8,
   "metadata": {},
   "outputs": [
    {
     "data": {
      "text/html": [
       "<div>\n",
       "<style scoped>\n",
       "    .dataframe tbody tr th:only-of-type {\n",
       "        vertical-align: middle;\n",
       "    }\n",
       "\n",
       "    .dataframe tbody tr th {\n",
       "        vertical-align: top;\n",
       "    }\n",
       "\n",
       "    .dataframe thead th {\n",
       "        text-align: right;\n",
       "    }\n",
       "</style>\n",
       "<table border=\"1\" class=\"dataframe\">\n",
       "  <thead>\n",
       "    <tr style=\"text-align: right;\">\n",
       "      <th></th>\n",
       "      <th>0</th>\n",
       "      <th>1</th>\n",
       "      <th>2</th>\n",
       "      <th>3</th>\n",
       "      <th>4</th>\n",
       "      <th>5</th>\n",
       "      <th>6</th>\n",
       "      <th>7</th>\n",
       "      <th>8</th>\n",
       "      <th>9</th>\n",
       "      <th>10</th>\n",
       "      <th>11</th>\n",
       "      <th>12</th>\n",
       "      <th>13</th>\n",
       "    </tr>\n",
       "  </thead>\n",
       "  <tbody>\n",
       "    <tr>\n",
       "      <th>0</th>\n",
       "      <td>-0.181588</td>\n",
       "      <td>0.176554</td>\n",
       "      <td>0.058335</td>\n",
       "      <td>-0.166205</td>\n",
       "      <td>-0.073619</td>\n",
       "      <td>-0.173917</td>\n",
       "      <td>-0.282286</td>\n",
       "      <td>0.126002</td>\n",
       "      <td>0.148107</td>\n",
       "      <td>-0.153307</td>\n",
       "      <td>-0.306138</td>\n",
       "      <td>-0.091122</td>\n",
       "      <td>1.0</td>\n",
       "      <td>0.0</td>\n",
       "    </tr>\n",
       "    <tr>\n",
       "      <th>1</th>\n",
       "      <td>0.715586</td>\n",
       "      <td>0.232307</td>\n",
       "      <td>0.704331</td>\n",
       "      <td>0.774179</td>\n",
       "      <td>-0.073671</td>\n",
       "      <td>-0.179527</td>\n",
       "      <td>-0.297471</td>\n",
       "      <td>0.187801</td>\n",
       "      <td>0.563945</td>\n",
       "      <td>-0.512394</td>\n",
       "      <td>-0.941315</td>\n",
       "      <td>0.353060</td>\n",
       "      <td>0.0</td>\n",
       "      <td>0.0</td>\n",
       "    </tr>\n",
       "    <tr>\n",
       "      <th>2</th>\n",
       "      <td>-0.391147</td>\n",
       "      <td>0.130054</td>\n",
       "      <td>-0.933779</td>\n",
       "      <td>-0.386523</td>\n",
       "      <td>-0.073687</td>\n",
       "      <td>-0.186885</td>\n",
       "      <td>-0.308242</td>\n",
       "      <td>0.074778</td>\n",
       "      <td>-0.499583</td>\n",
       "      <td>1.001974</td>\n",
       "      <td>2.503634</td>\n",
       "      <td>-0.727896</td>\n",
       "      <td>1.0</td>\n",
       "      <td>0.0</td>\n",
       "    </tr>\n",
       "    <tr>\n",
       "      <th>3</th>\n",
       "      <td>0.388150</td>\n",
       "      <td>-1.121856</td>\n",
       "      <td>-0.638142</td>\n",
       "      <td>0.200508</td>\n",
       "      <td>-0.073687</td>\n",
       "      <td>-0.186440</td>\n",
       "      <td>-0.306640</td>\n",
       "      <td>-1.195491</td>\n",
       "      <td>-0.192683</td>\n",
       "      <td>0.856662</td>\n",
       "      <td>2.390660</td>\n",
       "      <td>-0.209258</td>\n",
       "      <td>1.0</td>\n",
       "      <td>0.0</td>\n",
       "    </tr>\n",
       "    <tr>\n",
       "      <th>4</th>\n",
       "      <td>-0.456634</td>\n",
       "      <td>-0.506367</td>\n",
       "      <td>0.345846</td>\n",
       "      <td>-0.495743</td>\n",
       "      <td>-0.063019</td>\n",
       "      <td>0.005073</td>\n",
       "      <td>0.074631</td>\n",
       "      <td>-0.597202</td>\n",
       "      <td>0.082934</td>\n",
       "      <td>-0.130446</td>\n",
       "      <td>-0.391475</td>\n",
       "      <td>0.185601</td>\n",
       "      <td>1.0</td>\n",
       "      <td>0.0</td>\n",
       "    </tr>\n",
       "  </tbody>\n",
       "</table>\n",
       "</div>"
      ],
      "text/plain": [
       "          0         1         2         3         4         5         6  \\\n",
       "0 -0.181588  0.176554  0.058335 -0.166205 -0.073619 -0.173917 -0.282286   \n",
       "1  0.715586  0.232307  0.704331  0.774179 -0.073671 -0.179527 -0.297471   \n",
       "2 -0.391147  0.130054 -0.933779 -0.386523 -0.073687 -0.186885 -0.308242   \n",
       "3  0.388150 -1.121856 -0.638142  0.200508 -0.073687 -0.186440 -0.306640   \n",
       "4 -0.456634 -0.506367  0.345846 -0.495743 -0.063019  0.005073  0.074631   \n",
       "\n",
       "          7         8         9        10        11   12   13  \n",
       "0  0.126002  0.148107 -0.153307 -0.306138 -0.091122  1.0  0.0  \n",
       "1  0.187801  0.563945 -0.512394 -0.941315  0.353060  0.0  0.0  \n",
       "2  0.074778 -0.499583  1.001974  2.503634 -0.727896  1.0  0.0  \n",
       "3 -1.195491 -0.192683  0.856662  2.390660 -0.209258  1.0  0.0  \n",
       "4 -0.597202  0.082934 -0.130446 -0.391475  0.185601  1.0  0.0  "
      ]
     },
     "execution_count": 8,
     "metadata": {},
     "output_type": "execute_result"
    }
   ],
   "source": [
    "datay1.head()"
   ]
  },
  {
   "cell_type": "code",
   "execution_count": 9,
   "metadata": {
    "collapsed": false
   },
   "outputs": [
    {
     "data": {
      "text/html": [
       "<div>\n",
       "<style scoped>\n",
       "    .dataframe tbody tr th:only-of-type {\n",
       "        vertical-align: middle;\n",
       "    }\n",
       "\n",
       "    .dataframe tbody tr th {\n",
       "        vertical-align: top;\n",
       "    }\n",
       "\n",
       "    .dataframe thead th {\n",
       "        text-align: right;\n",
       "    }\n",
       "</style>\n",
       "<table border=\"1\" class=\"dataframe\">\n",
       "  <thead>\n",
       "    <tr style=\"text-align: right;\">\n",
       "      <th></th>\n",
       "      <th>0</th>\n",
       "      <th>1</th>\n",
       "      <th>2</th>\n",
       "      <th>3</th>\n",
       "      <th>4</th>\n",
       "      <th>5</th>\n",
       "      <th>6</th>\n",
       "      <th>7</th>\n",
       "      <th>8</th>\n",
       "      <th>9</th>\n",
       "      <th>10</th>\n",
       "      <th>11</th>\n",
       "      <th>12</th>\n",
       "      <th>13</th>\n",
       "    </tr>\n",
       "  </thead>\n",
       "  <tbody>\n",
       "    <tr>\n",
       "      <th>0</th>\n",
       "      <td>-0.181588</td>\n",
       "      <td>0.176554</td>\n",
       "      <td>0.058335</td>\n",
       "      <td>-0.166205</td>\n",
       "      <td>-0.073619</td>\n",
       "      <td>-0.173917</td>\n",
       "      <td>-0.282286</td>\n",
       "      <td>0.126002</td>\n",
       "      <td>0.148107</td>\n",
       "      <td>-0.153307</td>\n",
       "      <td>-0.306138</td>\n",
       "      <td>-0.091122</td>\n",
       "      <td>1.0</td>\n",
       "      <td>0.0</td>\n",
       "    </tr>\n",
       "    <tr>\n",
       "      <th>1</th>\n",
       "      <td>0.715586</td>\n",
       "      <td>0.232307</td>\n",
       "      <td>0.704331</td>\n",
       "      <td>0.774179</td>\n",
       "      <td>-0.073671</td>\n",
       "      <td>-0.179527</td>\n",
       "      <td>-0.297471</td>\n",
       "      <td>0.187801</td>\n",
       "      <td>0.563945</td>\n",
       "      <td>-0.512394</td>\n",
       "      <td>-0.941315</td>\n",
       "      <td>0.353060</td>\n",
       "      <td>0.0</td>\n",
       "      <td>0.0</td>\n",
       "    </tr>\n",
       "    <tr>\n",
       "      <th>2</th>\n",
       "      <td>-0.391147</td>\n",
       "      <td>0.130054</td>\n",
       "      <td>-0.933779</td>\n",
       "      <td>-0.386523</td>\n",
       "      <td>-0.073687</td>\n",
       "      <td>-0.186885</td>\n",
       "      <td>-0.308242</td>\n",
       "      <td>0.074778</td>\n",
       "      <td>-0.499583</td>\n",
       "      <td>1.001974</td>\n",
       "      <td>2.503634</td>\n",
       "      <td>-0.727896</td>\n",
       "      <td>1.0</td>\n",
       "      <td>0.0</td>\n",
       "    </tr>\n",
       "    <tr>\n",
       "      <th>3</th>\n",
       "      <td>0.388150</td>\n",
       "      <td>-1.121856</td>\n",
       "      <td>-0.638142</td>\n",
       "      <td>0.200508</td>\n",
       "      <td>-0.073687</td>\n",
       "      <td>-0.186440</td>\n",
       "      <td>-0.306640</td>\n",
       "      <td>-1.195491</td>\n",
       "      <td>-0.192683</td>\n",
       "      <td>0.856662</td>\n",
       "      <td>2.390660</td>\n",
       "      <td>-0.209258</td>\n",
       "      <td>1.0</td>\n",
       "      <td>0.0</td>\n",
       "    </tr>\n",
       "    <tr>\n",
       "      <th>4</th>\n",
       "      <td>-0.456634</td>\n",
       "      <td>-0.506367</td>\n",
       "      <td>0.345846</td>\n",
       "      <td>-0.495743</td>\n",
       "      <td>-0.063019</td>\n",
       "      <td>0.005073</td>\n",
       "      <td>0.074631</td>\n",
       "      <td>-0.597202</td>\n",
       "      <td>0.082934</td>\n",
       "      <td>-0.130446</td>\n",
       "      <td>-0.391475</td>\n",
       "      <td>0.185601</td>\n",
       "      <td>1.0</td>\n",
       "      <td>0.0</td>\n",
       "    </tr>\n",
       "  </tbody>\n",
       "</table>\n",
       "</div>"
      ],
      "text/plain": [
       "          0         1         2         3         4         5         6  \\\n",
       "0 -0.181588  0.176554  0.058335 -0.166205 -0.073619 -0.173917 -0.282286   \n",
       "1  0.715586  0.232307  0.704331  0.774179 -0.073671 -0.179527 -0.297471   \n",
       "2 -0.391147  0.130054 -0.933779 -0.386523 -0.073687 -0.186885 -0.308242   \n",
       "3  0.388150 -1.121856 -0.638142  0.200508 -0.073687 -0.186440 -0.306640   \n",
       "4 -0.456634 -0.506367  0.345846 -0.495743 -0.063019  0.005073  0.074631   \n",
       "\n",
       "          7         8         9        10        11   12   13  \n",
       "0  0.126002  0.148107 -0.153307 -0.306138 -0.091122  1.0  0.0  \n",
       "1  0.187801  0.563945 -0.512394 -0.941315  0.353060  0.0  0.0  \n",
       "2  0.074778 -0.499583  1.001974  2.503634 -0.727896  1.0  0.0  \n",
       "3 -1.195491 -0.192683  0.856662  2.390660 -0.209258  1.0  0.0  \n",
       "4 -0.597202  0.082934 -0.130446 -0.391475  0.185601  1.0  0.0  "
      ]
     },
     "execution_count": 9,
     "metadata": {},
     "output_type": "execute_result"
    }
   ],
   "source": [
    "\n",
    "predictors_y1 = datay1\n",
    "\n",
    "predictors_y1.head()"
   ]
  },
  {
   "cell_type": "markdown",
   "metadata": {},
   "source": [
    "Upon investigation of the data, we know we have __six__ features (`X1 - X6`) predicting `Y2`. Use similar code (as below) to select them."
   ]
  },
  {
   "cell_type": "code",
   "execution_count": 15,
   "metadata": {},
   "outputs": [
    {
     "data": {
      "text/plain": [
       "0    0.525006\n",
       "1   -0.497238\n",
       "2   -0.497238\n",
       "3   -0.497238\n",
       "4   -0.037228\n",
       "Name: 0.1, dtype: float64"
      ]
     },
     "execution_count": 15,
     "metadata": {},
     "output_type": "execute_result"
    }
   ],
   "source": [
    "predictors_y2 = data.iloc[:,-3]\n",
    "predictors_y2.head()"
   ]
  },
  {
   "cell_type": "markdown",
   "metadata": {},
   "source": [
    "Below is the key part of this notebook - which generates a `logistic regression` model to predict `Y1`/`Y2`.\n",
    "\n",
    "The code works this way:\n",
    "\n",
    "1. We generate two lists `f1_score_lst` and `auc_lst` to store f1_score and AUC from each of the `10` runs of the model;\n",
    "2. Define model:\n",
    "    1. We define a `LogisticRegression()` model;\n",
    "    \n",
    "    2. We split predictors (`predictors_y1`) and target `y1` to training (80%) and testing (20%);\n",
    "    \n",
    "    3. We fit the model `clf` to the training data, then use it to predict on the testing data;\n",
    "    \n",
    "    4. We also defined a `10-fold cross validation` to make sure our model do not overfit - see [here](https://scikit-learn.org/stable/modules/cross_validation.html) for more info;\n",
    "    \n",
    "    5. We append the f1_score and AUC of current model to the lists (`f1_score_lst` and `auc_lst`) we defined earlier.\n",
    "  \n",
    "3. Print out average f1_score and AUC for all 10 runs;\n",
    "4. Print out average average accuracy from cross validation\n",
    "5. Print out confusion matrix and classification report for the __last__ model.\n",
    "\n",
    "__NOTE__: Step 3 provides the evaluation results we need; step 4 - 5 can be used to verify the results from step 3."
   ]
  },
  {
   "cell_type": "code",
   "execution_count": 12,
   "metadata": {
    "collapsed": false
   },
   "outputs": [
    {
     "name": "stdout",
     "output_type": "stream",
     "text": [
      "F1 0.6694; AUC 0.6724 \n",
      "Accuracy of classifier on test set: 0.67\n",
      "10-fold cross validation average accuracy of classifier: 0.599\n",
      "Confusion Matrix for Logistic Regression Classfier:\n",
      "[[50 28]\n",
      " [16 38]]\n",
      "Classification Report for Logistic Regression Classfier:\n",
      "             precision    recall  f1-score   support\n",
      "\n",
      "          0       0.76      0.64      0.69        78\n",
      "          1       0.58      0.70      0.63        54\n",
      "\n",
      "avg / total       0.68      0.67      0.67       132\n",
      "\n"
     ]
    }
   ],
   "source": [
    "# lists for f1-score and AUC\n",
    "f1_score_lst = []\n",
    "auc_lst = []\n",
    "\n",
    "\n",
    "#loop to calculate f1 and auc scores and present averages after 10 runs\n",
    "for count in range (1,10):\n",
    "    #Model building\n",
    "    clf = LogisticRegression()\n",
    "    X1_train, X1_test, y1_train, y1_test = train_test_split(predictors_y1, y1, test_size=0.2, random_state=123)\n",
    "    clf.fit(X1_train, y1_train)\n",
    "\n",
    "    y1_pred = clf.predict(X1_test)\n",
    "\n",
    "    \n",
    "    #10-fold cross validation\n",
    "    kfold = model_selection.KFold(n_splits=10, random_state=7)\n",
    "    scoring = 'accuracy'\n",
    "    results = model_selection.cross_val_score(clf, X1_train, y1_train, cv=kfold, scoring=scoring)\n",
    "\n",
    "    \n",
    "\n",
    "    \n",
    "    #calculate f1-score and AUC\n",
    "    \n",
    "    clf_roc_auc = roc_auc_score(y1_test, y1_pred)\n",
    "    f1_score_lst.append(precision_recall_fscore_support(y1_test, y1_pred, average='weighted')[2])\n",
    "    auc_lst.append(clf_roc_auc)\n",
    "\n",
    "\n",
    "print('F1 {:.4f}; AUC {:.4f} '.format(np.mean(f1_score_lst),np.mean(auc_lst)))\n",
    "\n",
    "#result=logit_model.fit()\n",
    "confusion_matrix_y1 = confusion_matrix(y1_test, y1_pred)\n",
    "\n",
    "\n",
    "#print(result.summary())\n",
    "print('Accuracy of classifier on test set: {:.2f}'.format(clf.score(X1_test, y1_test)))\n",
    "\n",
    "print(\"10-fold cross validation average accuracy of classifier: %.3f\" % (results.mean()))\n",
    "\n",
    "print('Confusion Matrix for Logistic Regression Classfier:')\n",
    "print(confusion_matrix_y1)\n",
    "\n",
    "print('Classification Report for Logistic Regression Classfier:')\n",
    "print(classification_report(y1_test, y1_pred))\n"
   ]
  },
  {
   "cell_type": "markdown",
   "metadata": {},
   "source": [
    "Below code are used to evaluate model toward `Y2`. It is very similar to the code above - key difference is that `Y2` is imbalanced - so I wrote some code (under `# Begin oversampling`) to deal with that."
   ]
  },
  {
   "cell_type": "code",
   "execution_count": 16,
   "metadata": {
    "collapsed": false
   },
   "outputs": [
    {
     "ename": "ValueError",
     "evalue": "Expected 2D array, got 1D array instead:\narray=[-0.49723834 -0.49723834  0.07777438  1.03612891 -0.49723834 -0.49723834\n -0.49723834 -0.49723834 -0.49723834 -0.49723834 -0.49723834  0.11610856\n -0.49723834 -0.49723834  0.65278709 -0.49723834 -0.49723834 -0.49723834\n -0.49723834  0.7027882   1.34280236 -0.49723834 -0.22664412  1.34280236\n  1.80281253  0.11610856 -0.49723834 -0.49723834 -0.49723834 -0.49723834\n  2.01190806 -0.49723834  1.03612891  0.65278709 -0.49723834 -0.49723834\n -0.49723834  1.34280236 -0.49723834  0.0439501   1.20650305 -0.49723834\n -0.05913341  0.21046962  0.42278201 -0.49723834  0.81707644  1.34280236\n -0.49723834  0.21046962  2.26282271 -0.49723834 -0.49723834 -0.49723834\n  0.15991905 -0.49723834 -0.49723834 -0.01301711 -0.49723834 -0.49723834\n  0.11610856  0.0439501  -0.49723834  1.87700772  0.58513854 -0.49723834\n  1.34280236 -0.49723834  2.23795729 -0.49723834 -0.11389653 -0.49723834\n -0.49723834  0.07777438 -0.49723834 -0.05913341 -0.49723834 -0.49723834\n  0.07777438 -0.49723834  0.07777438  0.26944528 -0.49723834 -0.49723834\n  0.0439501  -0.49723834 -0.49723834 -0.49723834  0.72945546  0.07777438\n -0.49723834 -0.49723834  2.78854862 -0.49723834  1.22779981 -0.49723834\n -0.49723834  8.70296515  0.13725845  0.11610856 -0.49723834  1.47423383\n -0.49723834 -0.49723834  0.60678608 -0.49723834 -0.49723834  0.65278709\n  0.91817758 -0.49723834  0.37897151 -0.49723834 -0.07904727  0.15991905\n  1.40625204 -0.49723834 -0.49723834 -0.49723834 -0.49723834  0.15991905\n  1.22779981  0.95542537 -0.09722949  0.15991905 -0.49723834 -0.49723834\n -0.49723834 -0.49723834  0.29135053  0.72945546 -0.49723834  1.0004692 ].\nReshape your data either using array.reshape(-1, 1) if your data has a single feature or array.reshape(1, -1) if it contains a single sample.",
     "output_type": "error",
     "traceback": [
      "\u001b[0;31m---------------------------------------------------------------------------\u001b[0m",
      "\u001b[0;31mValueError\u001b[0m                                Traceback (most recent call last)",
      "\u001b[0;32m<ipython-input-16-bbe93a553303>\u001b[0m in \u001b[0;36m<module>\u001b[0;34m()\u001b[0m\n\u001b[1;32m     26\u001b[0m     \u001b[0mclf1\u001b[0m\u001b[0;34m.\u001b[0m\u001b[0mfit\u001b[0m\u001b[0;34m(\u001b[0m\u001b[0mX2_train\u001b[0m\u001b[0;34m,\u001b[0m \u001b[0my2_train\u001b[0m\u001b[0;34m)\u001b[0m\u001b[0;34m\u001b[0m\u001b[0m\n\u001b[1;32m     27\u001b[0m \u001b[0;34m\u001b[0m\u001b[0m\n\u001b[0;32m---> 28\u001b[0;31m     \u001b[0my2_pred\u001b[0m \u001b[0;34m=\u001b[0m \u001b[0mclf1\u001b[0m\u001b[0;34m.\u001b[0m\u001b[0mpredict\u001b[0m\u001b[0;34m(\u001b[0m\u001b[0mX2_test\u001b[0m\u001b[0;34m)\u001b[0m\u001b[0;34m\u001b[0m\u001b[0m\n\u001b[0m\u001b[1;32m     29\u001b[0m \u001b[0;34m\u001b[0m\u001b[0m\n\u001b[1;32m     30\u001b[0m \u001b[0;34m\u001b[0m\u001b[0m\n",
      "\u001b[0;32m/opt/tljh/user/lib/python3.6/site-packages/sklearn/linear_model/base.py\u001b[0m in \u001b[0;36mpredict\u001b[0;34m(self, X)\u001b[0m\n\u001b[1;32m    322\u001b[0m             \u001b[0mPredicted\u001b[0m \u001b[0;32mclass\u001b[0m \u001b[0mlabel\u001b[0m \u001b[0mper\u001b[0m \u001b[0msample\u001b[0m\u001b[0;34m.\u001b[0m\u001b[0;34m\u001b[0m\u001b[0m\n\u001b[1;32m    323\u001b[0m         \"\"\"\n\u001b[0;32m--> 324\u001b[0;31m         \u001b[0mscores\u001b[0m \u001b[0;34m=\u001b[0m \u001b[0mself\u001b[0m\u001b[0;34m.\u001b[0m\u001b[0mdecision_function\u001b[0m\u001b[0;34m(\u001b[0m\u001b[0mX\u001b[0m\u001b[0;34m)\u001b[0m\u001b[0;34m\u001b[0m\u001b[0m\n\u001b[0m\u001b[1;32m    325\u001b[0m         \u001b[0;32mif\u001b[0m \u001b[0mlen\u001b[0m\u001b[0;34m(\u001b[0m\u001b[0mscores\u001b[0m\u001b[0;34m.\u001b[0m\u001b[0mshape\u001b[0m\u001b[0;34m)\u001b[0m \u001b[0;34m==\u001b[0m \u001b[0;36m1\u001b[0m\u001b[0;34m:\u001b[0m\u001b[0;34m\u001b[0m\u001b[0m\n\u001b[1;32m    326\u001b[0m             \u001b[0mindices\u001b[0m \u001b[0;34m=\u001b[0m \u001b[0;34m(\u001b[0m\u001b[0mscores\u001b[0m \u001b[0;34m>\u001b[0m \u001b[0;36m0\u001b[0m\u001b[0;34m)\u001b[0m\u001b[0;34m.\u001b[0m\u001b[0mastype\u001b[0m\u001b[0;34m(\u001b[0m\u001b[0mnp\u001b[0m\u001b[0;34m.\u001b[0m\u001b[0mint\u001b[0m\u001b[0;34m)\u001b[0m\u001b[0;34m\u001b[0m\u001b[0m\n",
      "\u001b[0;32m/opt/tljh/user/lib/python3.6/site-packages/sklearn/linear_model/base.py\u001b[0m in \u001b[0;36mdecision_function\u001b[0;34m(self, X)\u001b[0m\n\u001b[1;32m    298\u001b[0m                                  \"yet\" % {'name': type(self).__name__})\n\u001b[1;32m    299\u001b[0m \u001b[0;34m\u001b[0m\u001b[0m\n\u001b[0;32m--> 300\u001b[0;31m         \u001b[0mX\u001b[0m \u001b[0;34m=\u001b[0m \u001b[0mcheck_array\u001b[0m\u001b[0;34m(\u001b[0m\u001b[0mX\u001b[0m\u001b[0;34m,\u001b[0m \u001b[0maccept_sparse\u001b[0m\u001b[0;34m=\u001b[0m\u001b[0;34m'csr'\u001b[0m\u001b[0;34m)\u001b[0m\u001b[0;34m\u001b[0m\u001b[0m\n\u001b[0m\u001b[1;32m    301\u001b[0m \u001b[0;34m\u001b[0m\u001b[0m\n\u001b[1;32m    302\u001b[0m         \u001b[0mn_features\u001b[0m \u001b[0;34m=\u001b[0m \u001b[0mself\u001b[0m\u001b[0;34m.\u001b[0m\u001b[0mcoef_\u001b[0m\u001b[0;34m.\u001b[0m\u001b[0mshape\u001b[0m\u001b[0;34m[\u001b[0m\u001b[0;36m1\u001b[0m\u001b[0;34m]\u001b[0m\u001b[0;34m\u001b[0m\u001b[0m\n",
      "\u001b[0;32m/opt/tljh/user/lib/python3.6/site-packages/sklearn/utils/validation.py\u001b[0m in \u001b[0;36mcheck_array\u001b[0;34m(array, accept_sparse, dtype, order, copy, force_all_finite, ensure_2d, allow_nd, ensure_min_samples, ensure_min_features, warn_on_dtype, estimator)\u001b[0m\n\u001b[1;32m    439\u001b[0m                     \u001b[0;34m\"Reshape your data either using array.reshape(-1, 1) if \"\u001b[0m\u001b[0;34m\u001b[0m\u001b[0m\n\u001b[1;32m    440\u001b[0m                     \u001b[0;34m\"your data has a single feature or array.reshape(1, -1) \"\u001b[0m\u001b[0;34m\u001b[0m\u001b[0m\n\u001b[0;32m--> 441\u001b[0;31m                     \"if it contains a single sample.\".format(array))\n\u001b[0m\u001b[1;32m    442\u001b[0m             \u001b[0marray\u001b[0m \u001b[0;34m=\u001b[0m \u001b[0mnp\u001b[0m\u001b[0;34m.\u001b[0m\u001b[0matleast_2d\u001b[0m\u001b[0;34m(\u001b[0m\u001b[0marray\u001b[0m\u001b[0;34m)\u001b[0m\u001b[0;34m\u001b[0m\u001b[0m\n\u001b[1;32m    443\u001b[0m             \u001b[0;31m# To ensure that array flags are maintained\u001b[0m\u001b[0;34m\u001b[0m\u001b[0;34m\u001b[0m\u001b[0m\n",
      "\u001b[0;31mValueError\u001b[0m: Expected 2D array, got 1D array instead:\narray=[-0.49723834 -0.49723834  0.07777438  1.03612891 -0.49723834 -0.49723834\n -0.49723834 -0.49723834 -0.49723834 -0.49723834 -0.49723834  0.11610856\n -0.49723834 -0.49723834  0.65278709 -0.49723834 -0.49723834 -0.49723834\n -0.49723834  0.7027882   1.34280236 -0.49723834 -0.22664412  1.34280236\n  1.80281253  0.11610856 -0.49723834 -0.49723834 -0.49723834 -0.49723834\n  2.01190806 -0.49723834  1.03612891  0.65278709 -0.49723834 -0.49723834\n -0.49723834  1.34280236 -0.49723834  0.0439501   1.20650305 -0.49723834\n -0.05913341  0.21046962  0.42278201 -0.49723834  0.81707644  1.34280236\n -0.49723834  0.21046962  2.26282271 -0.49723834 -0.49723834 -0.49723834\n  0.15991905 -0.49723834 -0.49723834 -0.01301711 -0.49723834 -0.49723834\n  0.11610856  0.0439501  -0.49723834  1.87700772  0.58513854 -0.49723834\n  1.34280236 -0.49723834  2.23795729 -0.49723834 -0.11389653 -0.49723834\n -0.49723834  0.07777438 -0.49723834 -0.05913341 -0.49723834 -0.49723834\n  0.07777438 -0.49723834  0.07777438  0.26944528 -0.49723834 -0.49723834\n  0.0439501  -0.49723834 -0.49723834 -0.49723834  0.72945546  0.07777438\n -0.49723834 -0.49723834  2.78854862 -0.49723834  1.22779981 -0.49723834\n -0.49723834  8.70296515  0.13725845  0.11610856 -0.49723834  1.47423383\n -0.49723834 -0.49723834  0.60678608 -0.49723834 -0.49723834  0.65278709\n  0.91817758 -0.49723834  0.37897151 -0.49723834 -0.07904727  0.15991905\n  1.40625204 -0.49723834 -0.49723834 -0.49723834 -0.49723834  0.15991905\n  1.22779981  0.95542537 -0.09722949  0.15991905 -0.49723834 -0.49723834\n -0.49723834 -0.49723834  0.29135053  0.72945546 -0.49723834  1.0004692 ].\nReshape your data either using array.reshape(-1, 1) if your data has a single feature or array.reshape(1, -1) if it contains a single sample."
     ]
    }
   ],
   "source": [
    "# lists for f1-score and AUC\n",
    "f1_score_lst = []\n",
    "auc_lst = []\n",
    "\n",
    "\n",
    "#loop to calculate f1 and auc scores and present averages after 10 runs\n",
    "for count in range (1,10):\n",
    "    #Model building\n",
    "    clf1 = LogisticRegression()\n",
    "\n",
    "    \n",
    "    # Splitting data into testing and training\n",
    "    X2_train, X2_test, y2_train, y2_test = train_test_split(predictors_y2, y2, test_size=0.2, random_state=123)\n",
    "    \n",
    "    # Begin oversampling\n",
    "    oversample = pd.concat([X2_train,y2_train],axis=1)\n",
    "    max_size = oversample['Y2'].value_counts().max()\n",
    "    lst = [oversample]\n",
    "    for class_index, group in oversample.groupby('Y2'):\n",
    "        lst.append(group.sample(max_size-len(group), replace=True))\n",
    "    X2_train = pd.concat(lst)\n",
    "    y2_train=pd.DataFrame.copy(X2_train['Y2'])\n",
    "    del X2_train['Y2']\n",
    "    \n",
    "    # fitting model on oversampled data\n",
    "    clf1.fit(X2_train, y2_train)\n",
    "    \n",
    "    y2_pred = clf1.predict(X2_test)\n",
    "    \n",
    "    \n",
    "    #10-fold cross validation\n",
    "    kfold = model_selection.KFold(n_splits=10, random_state=123)\n",
    "    scoring = 'accuracy'\n",
    "    results = model_selection.cross_val_score(clf1, X2_train, y2_train, cv=kfold, scoring=scoring)\n",
    "    \n",
    "    #calculate f1-score and AUC\n",
    "    \n",
    "    clf1_roc_auc = roc_auc_score(y2_test, y2_pred)\n",
    "    \n",
    "    \n",
    "    #calculate average f1-score and AUC\n",
    "    f1_score_lst.append(precision_recall_fscore_support(y2_test, y2_pred, average='weighted')[2])\n",
    "    auc_lst.append(clf1_roc_auc)\n",
    "    \n",
    "    \n",
    "print('F1 {:.4f}; AUC {:.4f} '.format(np.mean(f1_score_lst),np.mean(auc_lst)))\n",
    "\n",
    "confusion_matrix_y2 = confusion_matrix(y2_test, y2_pred)\n",
    "\n",
    "\n",
    "print('Accuracy of classifier on test set: {:.3f}'.format(clf1.score(X2_test, y2_test)))\n",
    "\n",
    "print(\"10-fold cross validation average accuracy of clf1: %.3f\" % (results.mean()))\n",
    "\n",
    "print('Confusion Matrix for Classfier:')\n",
    "print(confusion_matrix_y2)\n",
    "\n",
    "print('Classification Report for Classfier:')\n",
    "print(classification_report(y2_test, y2_pred))\n"
   ]
  },
  {
   "cell_type": "code",
   "execution_count": null,
   "metadata": {
    "collapsed": true
   },
   "outputs": [],
   "source": []
  }
 ],
 "metadata": {
  "kernelspec": {
   "display_name": "Python 3",
   "language": "python",
   "name": "python3"
  },
  "language_info": {
   "codemirror_mode": {
    "name": "ipython",
    "version": 3
   },
   "file_extension": ".py",
   "mimetype": "text/x-python",
   "name": "python",
   "nbconvert_exporter": "python",
   "pygments_lexer": "ipython3",
   "version": "3.6.5"
  }
 },
 "nbformat": 4,
 "nbformat_minor": 2
}
