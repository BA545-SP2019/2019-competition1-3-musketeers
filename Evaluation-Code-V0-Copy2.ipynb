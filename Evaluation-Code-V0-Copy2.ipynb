{
 "cells": [
  {
   "cell_type": "markdown",
   "metadata": {},
   "source": [
    "# Example Evaluation Code\n",
    "\n",
    "This notebook will be very __similar__ to the code I use to evaluate your results - it is provided for __your convenience__ so that you can use it to evaluate your preprocessing results at any time before your __final submission__.\n",
    "\n",
    "Please note that the results here will __NOT__ be the same as my evaluation results.\n",
    "\n",
    "Let's start with loading the required packages."
   ]
  },
  {
   "cell_type": "code",
   "execution_count": 1,
   "metadata": {
    "collapsed": false
   },
   "outputs": [],
   "source": [
    "# import required package for data handling\n",
    "import pandas as pd\n",
    "import numpy as np\n",
    "\n",
    "# import required packages for splitting data\n",
    "from sklearn import model_selection\n",
    "from sklearn.model_selection import cross_val_score\n",
    "from sklearn.model_selection import train_test_split\n",
    "\n",
    "# import required packages for evaluating models\n",
    "from sklearn import metrics\n",
    "from sklearn.metrics import confusion_matrix\n",
    "from sklearn.metrics import classification_report\n",
    "from sklearn.metrics import roc_auc_score\n",
    "from sklearn.metrics import accuracy_score\n",
    "from sklearn.metrics import precision_recall_fscore_support\n",
    "\n",
    "# import `logistic regression` model\n",
    "from sklearn.linear_model import LogisticRegression"
   ]
  },
  {
   "cell_type": "markdown",
   "metadata": {},
   "source": [
    "Next you should load __your__ data. In this case, I am using a sample dataset (`GroupX.csv`) which contains 6 predictors (`X1 - X6`) and two target variables (`Y1, Y2`).\n",
    "\n",
    "Please make sure you change the data to your __OWN__ dataset when using this code.\n",
    "\n",
    "__NOTE__:\n",
    "1. Your dataset maybe very different from the sample dataset.\n",
    "2. Please follow this structure when submitting your dataset."
   ]
  },
  {
   "cell_type": "code",
   "execution_count": 2,
   "metadata": {
    "collapsed": false
   },
   "outputs": [
    {
     "data": {
      "text/html": [
       "<div>\n",
       "<style scoped>\n",
       "    .dataframe tbody tr th:only-of-type {\n",
       "        vertical-align: middle;\n",
       "    }\n",
       "\n",
       "    .dataframe tbody tr th {\n",
       "        vertical-align: top;\n",
       "    }\n",
       "\n",
       "    .dataframe thead th {\n",
       "        text-align: right;\n",
       "    }\n",
       "</style>\n",
       "<table border=\"1\" class=\"dataframe\">\n",
       "  <thead>\n",
       "    <tr style=\"text-align: right;\">\n",
       "      <th></th>\n",
       "      <th>Unnamed: 0</th>\n",
       "      <th>C2</th>\n",
       "      <th>C3'</th>\n",
       "      <th>one_hot_Manufacturing</th>\n",
       "      <th>one_hot_Other</th>\n",
       "      <th>one_hot_Public Services</th>\n",
       "      <th>0</th>\n",
       "      <th>1</th>\n",
       "      <th>2</th>\n",
       "      <th>3</th>\n",
       "      <th>4</th>\n",
       "      <th>5</th>\n",
       "      <th>6</th>\n",
       "      <th>7</th>\n",
       "      <th>8</th>\n",
       "      <th>9</th>\n",
       "      <th>Y1</th>\n",
       "      <th>Y2</th>\n",
       "    </tr>\n",
       "  </thead>\n",
       "  <tbody>\n",
       "    <tr>\n",
       "      <th>0</th>\n",
       "      <td>0</td>\n",
<<<<<<< HEAD
       "      <td>1.0</td>\n",
       "      <td>1</td>\n",
       "      <td>1</td>\n",
       "      <td>0</td>\n",
       "      <td>0</td>\n",
       "      <td>0.069129</td>\n",
       "      <td>0.654566</td>\n",
       "      <td>-0.398275</td>\n",
       "      <td>0.146508</td>\n",
       "      <td>0.310740</td>\n",
       "      <td>-0.105902</td>\n",
       "      <td>0.217250</td>\n",
       "      <td>-0.099645</td>\n",
       "      <td>0.059313</td>\n",
       "      <td>1.269239</td>\n",
=======
       "      <td>0.468355</td>\n",
       "      <td>1.0</td>\n",
       "      <td>0.749962</td>\n",
       "      <td>0.505773</td>\n",
       "      <td>0.698302</td>\n",
       "      <td>0.541683</td>\n",
       "      <td>0.534621</td>\n",
       "      <td>0.596171</td>\n",
       "      <td>0.420757</td>\n",
       "      <td>1.0</td>\n",
       "      <td>0.445611</td>\n",
       "      <td>0.913251</td>\n",
       "      <td>1.0</td>\n",
       "      <td>0.0</td>\n",
       "      <td>0.0</td>\n",
>>>>>>> 9bbc08c488f84db4b5c45d3c322436811327c8b0
       "      <td>0</td>\n",
       "      <td>1</td>\n",
       "    </tr>\n",
       "    <tr>\n",
       "      <th>1</th>\n",
       "      <td>1</td>\n",
<<<<<<< HEAD
       "      <td>0.0</td>\n",
       "      <td>0</td>\n",
       "      <td>1</td>\n",
       "      <td>0</td>\n",
       "      <td>0</td>\n",
       "      <td>1.192960</td>\n",
       "      <td>-0.619777</td>\n",
       "      <td>-0.747253</td>\n",
       "      <td>0.205661</td>\n",
       "      <td>-0.109924</td>\n",
       "      <td>-1.352770</td>\n",
       "      <td>0.819304</td>\n",
       "      <td>-0.120604</td>\n",
       "      <td>2.295653</td>\n",
       "      <td>-0.787897</td>\n",
=======
       "      <td>0.609306</td>\n",
       "      <td>0.0</td>\n",
       "      <td>0.583748</td>\n",
       "      <td>0.452977</td>\n",
       "      <td>0.704706</td>\n",
       "      <td>0.473428</td>\n",
       "      <td>0.341012</td>\n",
       "      <td>0.673466</td>\n",
       "      <td>0.417913</td>\n",
       "      <td>0.0</td>\n",
       "      <td>0.639234</td>\n",
       "      <td>0.000000</td>\n",
       "      <td>1.0</td>\n",
       "      <td>0.0</td>\n",
       "      <td>0.0</td>\n",
>>>>>>> 9bbc08c488f84db4b5c45d3c322436811327c8b0
       "      <td>1</td>\n",
       "      <td>0</td>\n",
       "    </tr>\n",
       "    <tr>\n",
       "      <th>2</th>\n",
       "      <td>2</td>\n",
<<<<<<< HEAD
       "      <td>1.0</td>\n",
       "      <td>0</td>\n",
       "      <td>1</td>\n",
       "      <td>0</td>\n",
       "      <td>0</td>\n",
       "      <td>-0.385014</td>\n",
       "      <td>0.403480</td>\n",
       "      <td>-1.389643</td>\n",
       "      <td>0.097368</td>\n",
       "      <td>1.418058</td>\n",
       "      <td>2.575141</td>\n",
       "      <td>-1.007462</td>\n",
       "      <td>0.083466</td>\n",
       "      <td>-0.210771</td>\n",
       "      <td>-0.787897</td>\n",
=======
       "      <td>0.411396</td>\n",
       "      <td>1.0</td>\n",
       "      <td>0.717213</td>\n",
       "      <td>0.355790</td>\n",
       "      <td>0.692982</td>\n",
       "      <td>0.721351</td>\n",
       "      <td>0.950924</td>\n",
       "      <td>0.438935</td>\n",
       "      <td>0.445610</td>\n",
       "      <td>0.0</td>\n",
       "      <td>0.422227</td>\n",
       "      <td>0.000000</td>\n",
       "      <td>1.0</td>\n",
       "      <td>0.0</td>\n",
       "      <td>0.0</td>\n",
>>>>>>> 9bbc08c488f84db4b5c45d3c322436811327c8b0
       "      <td>1</td>\n",
       "      <td>0</td>\n",
       "    </tr>\n",
       "    <tr>\n",
       "      <th>3</th>\n",
       "      <td>3</td>\n",
<<<<<<< HEAD
       "      <td>1.0</td>\n",
       "      <td>0</td>\n",
       "      <td>1</td>\n",
       "      <td>0</td>\n",
       "      <td>0</td>\n",
       "      <td>0.872752</td>\n",
       "      <td>0.382698</td>\n",
       "      <td>-1.315744</td>\n",
       "      <td>-1.161107</td>\n",
       "      <td>1.398333</td>\n",
       "      <td>2.019205</td>\n",
       "      <td>-0.591091</td>\n",
       "      <td>0.753447</td>\n",
       "      <td>-0.251784</td>\n",
       "      <td>-0.787897</td>\n",
=======
       "      <td>0.569146</td>\n",
       "      <td>1.0</td>\n",
       "      <td>0.714502</td>\n",
       "      <td>0.366970</td>\n",
       "      <td>0.556734</td>\n",
       "      <td>0.718150</td>\n",
       "      <td>0.864600</td>\n",
       "      <td>0.492391</td>\n",
       "      <td>0.536545</td>\n",
       "      <td>0.0</td>\n",
       "      <td>0.418676</td>\n",
       "      <td>0.000000</td>\n",
       "      <td>1.0</td>\n",
       "      <td>0.0</td>\n",
       "      <td>0.0</td>\n",
>>>>>>> 9bbc08c488f84db4b5c45d3c322436811327c8b0
       "      <td>1</td>\n",
       "      <td>1</td>\n",
       "    </tr>\n",
       "    <tr>\n",
       "      <th>4</th>\n",
       "      <td>4</td>\n",
<<<<<<< HEAD
       "      <td>1.0</td>\n",
       "      <td>1</td>\n",
       "      <td>0</td>\n",
       "      <td>0</td>\n",
       "      <td>1</td>\n",
       "      <td>-0.560847</td>\n",
       "      <td>-1.266863</td>\n",
       "      <td>0.884735</td>\n",
       "      <td>-0.557667</td>\n",
       "      <td>-0.529148</td>\n",
       "      <td>-0.341092</td>\n",
       "      <td>0.499281</td>\n",
       "      <td>0.029590</td>\n",
       "      <td>-0.012345</td>\n",
       "      <td>1.198225</td>\n",
=======
       "      <td>0.389343</td>\n",
       "      <td>1.0</td>\n",
       "      <td>0.499347</td>\n",
       "      <td>0.699880</td>\n",
       "      <td>0.622065</td>\n",
       "      <td>0.405407</td>\n",
       "      <td>0.498102</td>\n",
       "      <td>0.632380</td>\n",
       "      <td>0.438298</td>\n",
       "      <td>1.0</td>\n",
       "      <td>0.439407</td>\n",
       "      <td>0.881725</td>\n",
       "      <td>0.0</td>\n",
       "      <td>0.0</td>\n",
       "      <td>1.0</td>\n",
>>>>>>> 9bbc08c488f84db4b5c45d3c322436811327c8b0
       "      <td>0</td>\n",
       "      <td>1</td>\n",
       "    </tr>\n",
       "  </tbody>\n",
       "</table>\n",
       "</div>"
      ],
      "text/plain": [
<<<<<<< HEAD
       "   Unnamed: 0   C2  C3'  one_hot_Manufacturing  one_hot_Other  \\\n",
       "0           0  1.0    1                      1              0   \n",
       "1           1  0.0    0                      1              0   \n",
       "2           2  1.0    0                      1              0   \n",
       "3           3  1.0    0                      1              0   \n",
       "4           4  1.0    1                      0              0   \n",
       "\n",
       "   one_hot_Public Services         0         1         2         3         4  \\\n",
       "0                        0  0.069129  0.654566 -0.398275  0.146508  0.310740   \n",
       "1                        0  1.192960 -0.619777 -0.747253  0.205661 -0.109924   \n",
       "2                        0 -0.385014  0.403480 -1.389643  0.097368  1.418058   \n",
       "3                        0  0.872752  0.382698 -1.315744 -1.161107  1.398333   \n",
       "4                        1 -0.560847 -1.266863  0.884735 -0.557667 -0.529148   \n",
       "\n",
       "          5         6         7         8         9  Y1  Y2  \n",
       "0 -0.105902  0.217250 -0.099645  0.059313  1.269239   0   1  \n",
       "1 -1.352770  0.819304 -0.120604  2.295653 -0.787897   1   0  \n",
       "2  2.575141 -1.007462  0.083466 -0.210771 -0.787897   1   0  \n",
       "3  2.019205 -0.591091  0.753447 -0.251784 -0.787897   1   1  \n",
       "4 -0.341092  0.499281  0.029590 -0.012345  1.198225   0   1  "
=======
       "   Unnamed: 0         0    1         2         3         4         5  \\\n",
       "0           0  0.468355  1.0  0.749962  0.505773  0.698302  0.541683   \n",
       "1           1  0.609306  0.0  0.583748  0.452977  0.704706  0.473428   \n",
       "2           2  0.411396  1.0  0.717213  0.355790  0.692982  0.721351   \n",
       "3           3  0.569146  1.0  0.714502  0.366970  0.556734  0.718150   \n",
       "4           4  0.389343  1.0  0.499347  0.699880  0.622065  0.405407   \n",
       "\n",
       "          6         7         8    9        10        11   12   13   14  Y1  \\\n",
       "0  0.534621  0.596171  0.420757  1.0  0.445611  0.913251  1.0  0.0  0.0   0   \n",
       "1  0.341012  0.673466  0.417913  0.0  0.639234  0.000000  1.0  0.0  0.0   1   \n",
       "2  0.950924  0.438935  0.445610  0.0  0.422227  0.000000  1.0  0.0  0.0   1   \n",
       "3  0.864600  0.492391  0.536545  0.0  0.418676  0.000000  1.0  0.0  0.0   1   \n",
       "4  0.498102  0.632380  0.438298  1.0  0.439407  0.881725  0.0  0.0  1.0   0   \n",
       "\n",
       "   Y2  \n",
       "0   1  \n",
       "1   0  \n",
       "2   0  \n",
       "3   1  \n",
       "4   1  "
>>>>>>> 9bbc08c488f84db4b5c45d3c322436811327c8b0
      ]
     },
     "execution_count": 2,
     "metadata": {},
     "output_type": "execute_result"
    }
   ],
   "source": [
<<<<<<< HEAD
    "data = pd.read_csv('./Datasets/I_zzzz.csv', header=0)\n",
=======
    "data = pd.read_csv('./Datasets/A6.csv', header=0)\n",
>>>>>>> 9bbc08c488f84db4b5c45d3c322436811327c8b0
    "data.head()"
   ]
  },
  {
   "cell_type": "markdown",
   "metadata": {},
   "source": [
    "Checking your data types and make sure it follows the data dictionary would be an important step, you can do that using the `.dtypes` attribute.\n",
    "\n",
    "__NOTE__: all __continuous__ faetures will be in `float64` data type, and all __categorical__ features will be in `int64` data type (given you already coded (per __suggest task \\#6__ in the competition document) them)."
   ]
  },
  {
   "cell_type": "code",
   "execution_count": 3,
   "metadata": {
    "collapsed": false
   },
   "outputs": [
    {
     "data": {
      "text/plain": [
       "Unnamed: 0                   int64\n",
       "C2                         float64\n",
       "C3'                          int64\n",
       "one_hot_Manufacturing        int64\n",
       "one_hot_Other                int64\n",
       "one_hot_Public Services      int64\n",
       "0                          float64\n",
       "1                          float64\n",
       "2                          float64\n",
       "3                          float64\n",
       "4                          float64\n",
       "5                          float64\n",
       "6                          float64\n",
       "7                          float64\n",
       "8                          float64\n",
       "9                          float64\n",
       "Y1                           int64\n",
       "Y2                           int64\n",
       "dtype: object"
      ]
     },
     "execution_count": 3,
     "metadata": {},
     "output_type": "execute_result"
    }
   ],
   "source": [
    "data.dtypes"
   ]
  },
  {
   "cell_type": "markdown",
   "metadata": {},
   "source": [
    "Now you need to specify your targets and predictors. __NOTE__ we have two targets here (`Y1, Y2`)."
   ]
  },
  {
   "cell_type": "code",
<<<<<<< HEAD
   "execution_count": 7,
=======
   "execution_count": 4,
>>>>>>> 9bbc08c488f84db4b5c45d3c322436811327c8b0
   "metadata": {
    "collapsed": true
   },
   "outputs": [],
   "source": [
    "y1 = data.Y1\n",
    "y2 = data.Y2"
   ]
  },
  {
   "cell_type": "markdown",
   "metadata": {},
   "source": [
    "Check the shape of the data."
   ]
  },
  {
   "cell_type": "code",
<<<<<<< HEAD
   "execution_count": 8,
=======
   "execution_count": 5,
>>>>>>> 9bbc08c488f84db4b5c45d3c322436811327c8b0
   "metadata": {
    "collapsed": false
   },
   "outputs": [
    {
     "data": {
      "text/plain": [
       "(660, 18)"
      ]
     },
<<<<<<< HEAD
     "execution_count": 8,
=======
     "execution_count": 5,
>>>>>>> 9bbc08c488f84db4b5c45d3c322436811327c8b0
     "metadata": {},
     "output_type": "execute_result"
    }
   ],
   "source": [
    "data.shape"
   ]
  },
  {
   "cell_type": "markdown",
   "metadata": {},
   "source": [
    "It is very possible that you will use different sets of the predictors for `Y1` and `Y2`. Now let's define them.\n",
    "\n",
    "First, let's define predictors for `Y1` - which will be the first 5 features in `data`."
   ]
  },
  {
   "cell_type": "code",
<<<<<<< HEAD
   "execution_count": 9,
=======
   "execution_count": 6,
>>>>>>> 9bbc08c488f84db4b5c45d3c322436811327c8b0
   "metadata": {
    "collapsed": false
   },
   "outputs": [
    {
     "data": {
      "text/plain": [
       "['Unnamed: 0',\n",
       " 'C2',\n",
       " \"C3'\",\n",
       " 'one_hot_Manufacturing',\n",
       " 'one_hot_Other',\n",
       " 'one_hot_Public Services',\n",
       " '0',\n",
       " '1',\n",
       " '2',\n",
       " '3',\n",
       " '4',\n",
       " '5',\n",
       " '6',\n",
       " '7',\n",
       " '8',\n",
       " '9']"
      ]
     },
<<<<<<< HEAD
     "execution_count": 9,
=======
     "execution_count": 6,
>>>>>>> 9bbc08c488f84db4b5c45d3c322436811327c8b0
     "metadata": {},
     "output_type": "execute_result"
    }
   ],
   "source": [
    "cols = list(data.columns)\n",
    "# first 5 features \n",
    "cols[:-2]"
   ]
  },
  {
   "cell_type": "markdown",
   "metadata": {},
   "source": [
    "Use below code to select best as predictors for `Y1`."
   ]
  },
  {
   "cell_type": "code",
<<<<<<< HEAD
   "execution_count": 10,
   "metadata": {},
   "outputs": [],
   "source": [
    "datay1 = data[[\"one_hot_Manufacturing\",\"one_hot_Other\",\"2\",\"3\",\"6\",\"7\"]]"
=======
   "execution_count": 7,
   "metadata": {},
   "outputs": [],
   "source": [
    "datay1 = data[[\"2\",\"3\", \"4\",\"5\", \"6\",\"7\"]]   "
>>>>>>> 9bbc08c488f84db4b5c45d3c322436811327c8b0
   ]
  },
  {
   "cell_type": "code",
<<<<<<< HEAD
   "execution_count": 19,
=======
   "execution_count": 8,
>>>>>>> 9bbc08c488f84db4b5c45d3c322436811327c8b0
   "metadata": {},
   "outputs": [],
   "source": [
    "#datay2 = data[[\"1\",\"2\",\"6\",\"7\",\"8\",\"10\",\"11\"]]\n",
<<<<<<< HEAD
    "datay2 = data[[\"one_hot_Manufacturing\",\"7\",\"9\"]]"
=======
    "datay2 = data[[\"2\",\"3\",\"6\",\"7\",\"8\", \"10\", \"11\"]]    "
>>>>>>> 9bbc08c488f84db4b5c45d3c322436811327c8b0
   ]
  },
  {
   "cell_type": "code",
<<<<<<< HEAD
   "execution_count": null,
=======
   "execution_count": 9,
>>>>>>> 9bbc08c488f84db4b5c45d3c322436811327c8b0
   "metadata": {},
   "outputs": [],
   "source": [
    "#datay1 = data.drop(data.columns[12], axis = 1)"
   ]
  },
  {
   "cell_type": "code",
<<<<<<< HEAD
   "execution_count": null,
=======
   "execution_count": 10,
>>>>>>> 9bbc08c488f84db4b5c45d3c322436811327c8b0
   "metadata": {},
   "outputs": [],
   "source": [
    "#datay1[datay1.columns[0:15]]"
   ]
  },
  {
   "cell_type": "code",
<<<<<<< HEAD
   "execution_count": 20,
=======
   "execution_count": 11,
>>>>>>> 9bbc08c488f84db4b5c45d3c322436811327c8b0
   "metadata": {
    "collapsed": false
   },
   "outputs": [
    {
     "data": {
      "text/html": [
       "<div>\n",
       "<style scoped>\n",
       "    .dataframe tbody tr th:only-of-type {\n",
       "        vertical-align: middle;\n",
       "    }\n",
       "\n",
       "    .dataframe tbody tr th {\n",
       "        vertical-align: top;\n",
       "    }\n",
       "\n",
       "    .dataframe thead th {\n",
       "        text-align: right;\n",
       "    }\n",
       "</style>\n",
       "<table border=\"1\" class=\"dataframe\">\n",
       "  <thead>\n",
       "    <tr style=\"text-align: right;\">\n",
       "      <th></th>\n",
<<<<<<< HEAD
       "      <th>one_hot_Manufacturing</th>\n",
       "      <th>one_hot_Other</th>\n",
=======
>>>>>>> 9bbc08c488f84db4b5c45d3c322436811327c8b0
       "      <th>2</th>\n",
       "      <th>3</th>\n",
       "      <th>6</th>\n",
       "      <th>7</th>\n",
       "    </tr>\n",
       "  </thead>\n",
       "  <tbody>\n",
       "    <tr>\n",
       "      <th>0</th>\n",
<<<<<<< HEAD
       "      <td>1</td>\n",
       "      <td>0</td>\n",
       "      <td>-0.398275</td>\n",
       "      <td>0.146508</td>\n",
       "      <td>0.217250</td>\n",
       "      <td>-0.099645</td>\n",
       "    </tr>\n",
       "    <tr>\n",
       "      <th>1</th>\n",
       "      <td>1</td>\n",
       "      <td>0</td>\n",
       "      <td>-0.747253</td>\n",
       "      <td>0.205661</td>\n",
       "      <td>0.819304</td>\n",
       "      <td>-0.120604</td>\n",
       "    </tr>\n",
       "    <tr>\n",
       "      <th>2</th>\n",
       "      <td>1</td>\n",
       "      <td>0</td>\n",
       "      <td>-1.389643</td>\n",
       "      <td>0.097368</td>\n",
       "      <td>-1.007462</td>\n",
       "      <td>0.083466</td>\n",
       "    </tr>\n",
       "    <tr>\n",
       "      <th>3</th>\n",
       "      <td>1</td>\n",
       "      <td>0</td>\n",
       "      <td>-1.315744</td>\n",
       "      <td>-1.161107</td>\n",
       "      <td>-0.591091</td>\n",
       "      <td>0.753447</td>\n",
       "    </tr>\n",
       "    <tr>\n",
       "      <th>4</th>\n",
       "      <td>0</td>\n",
       "      <td>0</td>\n",
       "      <td>0.884735</td>\n",
       "      <td>-0.557667</td>\n",
       "      <td>0.499281</td>\n",
       "      <td>0.029590</td>\n",
=======
       "      <td>0.749962</td>\n",
       "      <td>0.505773</td>\n",
       "      <td>0.698302</td>\n",
       "      <td>0.541683</td>\n",
       "      <td>0.534621</td>\n",
       "      <td>0.596171</td>\n",
       "    </tr>\n",
       "    <tr>\n",
       "      <th>1</th>\n",
       "      <td>0.583748</td>\n",
       "      <td>0.452977</td>\n",
       "      <td>0.704706</td>\n",
       "      <td>0.473428</td>\n",
       "      <td>0.341012</td>\n",
       "      <td>0.673466</td>\n",
       "    </tr>\n",
       "    <tr>\n",
       "      <th>2</th>\n",
       "      <td>0.717213</td>\n",
       "      <td>0.355790</td>\n",
       "      <td>0.692982</td>\n",
       "      <td>0.721351</td>\n",
       "      <td>0.950924</td>\n",
       "      <td>0.438935</td>\n",
       "    </tr>\n",
       "    <tr>\n",
       "      <th>3</th>\n",
       "      <td>0.714502</td>\n",
       "      <td>0.366970</td>\n",
       "      <td>0.556734</td>\n",
       "      <td>0.718150</td>\n",
       "      <td>0.864600</td>\n",
       "      <td>0.492391</td>\n",
       "    </tr>\n",
       "    <tr>\n",
       "      <th>4</th>\n",
       "      <td>0.499347</td>\n",
       "      <td>0.699880</td>\n",
       "      <td>0.622065</td>\n",
       "      <td>0.405407</td>\n",
       "      <td>0.498102</td>\n",
       "      <td>0.632380</td>\n",
>>>>>>> 9bbc08c488f84db4b5c45d3c322436811327c8b0
       "    </tr>\n",
       "  </tbody>\n",
       "</table>\n",
       "</div>"
      ],
      "text/plain": [
<<<<<<< HEAD
       "   one_hot_Manufacturing  one_hot_Other         2         3         6  \\\n",
       "0                      1              0 -0.398275  0.146508  0.217250   \n",
       "1                      1              0 -0.747253  0.205661  0.819304   \n",
       "2                      1              0 -1.389643  0.097368 -1.007462   \n",
       "3                      1              0 -1.315744 -1.161107 -0.591091   \n",
       "4                      0              0  0.884735 -0.557667  0.499281   \n",
       "\n",
       "          7  \n",
       "0 -0.099645  \n",
       "1 -0.120604  \n",
       "2  0.083466  \n",
       "3  0.753447  \n",
       "4  0.029590  "
      ]
     },
     "execution_count": 20,
=======
       "          2         3         4         5         6         7\n",
       "0  0.749962  0.505773  0.698302  0.541683  0.534621  0.596171\n",
       "1  0.583748  0.452977  0.704706  0.473428  0.341012  0.673466\n",
       "2  0.717213  0.355790  0.692982  0.721351  0.950924  0.438935\n",
       "3  0.714502  0.366970  0.556734  0.718150  0.864600  0.492391\n",
       "4  0.499347  0.699880  0.622065  0.405407  0.498102  0.632380"
      ]
     },
     "execution_count": 11,
>>>>>>> 9bbc08c488f84db4b5c45d3c322436811327c8b0
     "metadata": {},
     "output_type": "execute_result"
    }
   ],
   "source": [
    "\n",
    "predictors_y1 = datay1\n",
    "\n",
    "predictors_y1.head()"
   ]
  },
  {
   "cell_type": "markdown",
   "metadata": {},
   "source": [
    "Upon investigation of the data, we know we have __six__ features (`X1 - X6`) predicting `Y2`. Use similar code (as below) to select them."
   ]
  },
  {
   "cell_type": "code",
<<<<<<< HEAD
   "execution_count": 21,
=======
   "execution_count": 12,
>>>>>>> 9bbc08c488f84db4b5c45d3c322436811327c8b0
   "metadata": {
    "collapsed": false
   },
   "outputs": [
    {
     "data": {
      "text/html": [
       "<div>\n",
       "<style scoped>\n",
       "    .dataframe tbody tr th:only-of-type {\n",
       "        vertical-align: middle;\n",
       "    }\n",
       "\n",
       "    .dataframe tbody tr th {\n",
       "        vertical-align: top;\n",
       "    }\n",
       "\n",
       "    .dataframe thead th {\n",
       "        text-align: right;\n",
       "    }\n",
       "</style>\n",
       "<table border=\"1\" class=\"dataframe\">\n",
       "  <thead>\n",
       "    <tr style=\"text-align: right;\">\n",
       "      <th></th>\n",
<<<<<<< HEAD
       "      <th>one_hot_Manufacturing</th>\n",
       "      <th>7</th>\n",
       "      <th>9</th>\n",
=======
       "      <th>2</th>\n",
       "      <th>3</th>\n",
       "      <th>6</th>\n",
       "      <th>7</th>\n",
       "      <th>8</th>\n",
       "      <th>10</th>\n",
       "      <th>11</th>\n",
>>>>>>> 9bbc08c488f84db4b5c45d3c322436811327c8b0
       "    </tr>\n",
       "  </thead>\n",
       "  <tbody>\n",
       "    <tr>\n",
       "      <th>0</th>\n",
<<<<<<< HEAD
       "      <td>1</td>\n",
       "      <td>-0.099645</td>\n",
       "      <td>1.269239</td>\n",
       "    </tr>\n",
       "    <tr>\n",
       "      <th>1</th>\n",
       "      <td>1</td>\n",
       "      <td>-0.120604</td>\n",
       "      <td>-0.787897</td>\n",
       "    </tr>\n",
       "    <tr>\n",
       "      <th>2</th>\n",
       "      <td>1</td>\n",
       "      <td>0.083466</td>\n",
       "      <td>-0.787897</td>\n",
       "    </tr>\n",
       "    <tr>\n",
       "      <th>3</th>\n",
       "      <td>1</td>\n",
       "      <td>0.753447</td>\n",
       "      <td>-0.787897</td>\n",
       "    </tr>\n",
       "    <tr>\n",
       "      <th>4</th>\n",
       "      <td>0</td>\n",
       "      <td>0.029590</td>\n",
       "      <td>1.198225</td>\n",
=======
       "      <td>0.749962</td>\n",
       "      <td>0.505773</td>\n",
       "      <td>0.534621</td>\n",
       "      <td>0.596171</td>\n",
       "      <td>0.420757</td>\n",
       "      <td>0.445611</td>\n",
       "      <td>0.913251</td>\n",
       "    </tr>\n",
       "    <tr>\n",
       "      <th>1</th>\n",
       "      <td>0.583748</td>\n",
       "      <td>0.452977</td>\n",
       "      <td>0.341012</td>\n",
       "      <td>0.673466</td>\n",
       "      <td>0.417913</td>\n",
       "      <td>0.639234</td>\n",
       "      <td>0.000000</td>\n",
       "    </tr>\n",
       "    <tr>\n",
       "      <th>2</th>\n",
       "      <td>0.717213</td>\n",
       "      <td>0.355790</td>\n",
       "      <td>0.950924</td>\n",
       "      <td>0.438935</td>\n",
       "      <td>0.445610</td>\n",
       "      <td>0.422227</td>\n",
       "      <td>0.000000</td>\n",
       "    </tr>\n",
       "    <tr>\n",
       "      <th>3</th>\n",
       "      <td>0.714502</td>\n",
       "      <td>0.366970</td>\n",
       "      <td>0.864600</td>\n",
       "      <td>0.492391</td>\n",
       "      <td>0.536545</td>\n",
       "      <td>0.418676</td>\n",
       "      <td>0.000000</td>\n",
       "    </tr>\n",
       "    <tr>\n",
       "      <th>4</th>\n",
       "      <td>0.499347</td>\n",
       "      <td>0.699880</td>\n",
       "      <td>0.498102</td>\n",
       "      <td>0.632380</td>\n",
       "      <td>0.438298</td>\n",
       "      <td>0.439407</td>\n",
       "      <td>0.881725</td>\n",
>>>>>>> 9bbc08c488f84db4b5c45d3c322436811327c8b0
       "    </tr>\n",
       "  </tbody>\n",
       "</table>\n",
       "</div>"
      ],
      "text/plain": [
<<<<<<< HEAD
       "   one_hot_Manufacturing         7         9\n",
       "0                      1 -0.099645  1.269239\n",
       "1                      1 -0.120604 -0.787897\n",
       "2                      1  0.083466 -0.787897\n",
       "3                      1  0.753447 -0.787897\n",
       "4                      0  0.029590  1.198225"
      ]
     },
     "execution_count": 21,
=======
       "          2         3         6         7         8        10        11\n",
       "0  0.749962  0.505773  0.534621  0.596171  0.420757  0.445611  0.913251\n",
       "1  0.583748  0.452977  0.341012  0.673466  0.417913  0.639234  0.000000\n",
       "2  0.717213  0.355790  0.950924  0.438935  0.445610  0.422227  0.000000\n",
       "3  0.714502  0.366970  0.864600  0.492391  0.536545  0.418676  0.000000\n",
       "4  0.499347  0.699880  0.498102  0.632380  0.438298  0.439407  0.881725"
      ]
     },
     "execution_count": 12,
>>>>>>> 9bbc08c488f84db4b5c45d3c322436811327c8b0
     "metadata": {},
     "output_type": "execute_result"
    }
   ],
   "source": [
    "predictors_y2 = datay2\n",
    "\n",
    "predictors_y2.head()"
   ]
  },
  {
   "cell_type": "markdown",
   "metadata": {},
   "source": [
    "Below is the key part of this notebook - which generates a `logistic regression` model to predict `Y1`/`Y2`.\n",
    "\n",
    "The code works this way:\n",
    "\n",
    "1. We generate two lists `f1_score_lst` and `auc_lst` to store f1_score and AUC from each of the `10` runs of the model;\n",
    "2. Define model:\n",
    "    1. We define a `LogisticRegression()` model;\n",
    "    \n",
    "    2. We split predictors (`predictors_y1`) and target `y1` to training (80%) and testing (20%);\n",
    "    \n",
    "    3. We fit the model `clf` to the training data, then use it to predict on the testing data;\n",
    "    \n",
    "    4. We also defined a `10-fold cross validation` to make sure our model do not overfit - see [here](https://scikit-learn.org/stable/modules/cross_validation.html) for more info;\n",
    "    \n",
    "    5. We append the f1_score and AUC of current model to the lists (`f1_score_lst` and `auc_lst`) we defined earlier.\n",
    "  \n",
    "3. Print out average f1_score and AUC for all 10 runs;\n",
    "4. Print out average average accuracy from cross validation\n",
    "5. Print out confusion matrix and classification report for the __last__ model.\n",
    "\n",
    "__NOTE__: Step 3 provides the evaluation results we need; step 4 - 5 can be used to verify the results from step 3."
   ]
  },
  {
   "cell_type": "code",
<<<<<<< HEAD
   "execution_count": 22,
=======
   "execution_count": 13,
>>>>>>> 9bbc08c488f84db4b5c45d3c322436811327c8b0
   "metadata": {
    "collapsed": false
   },
   "outputs": [
    {
     "name": "stdout",
     "output_type": "stream",
     "text": [
<<<<<<< HEAD
      "F1 0.5839; AUC 0.6019 \n",
      "Accuracy of classifier on test set: 0.58\n",
      "10-fold cross validation average accuracy of classifier: 0.589\n",
      "Confusion Matrix for Logistic Regression Classfier:\n",
      "[[39 39]\n",
      " [16 38]]\n",
      "Classification Report for Logistic Regression Classfier:\n",
      "             precision    recall  f1-score   support\n",
      "\n",
      "          0       0.71      0.50      0.59        78\n",
      "          1       0.49      0.70      0.58        54\n",
      "\n",
      "avg / total       0.62      0.58      0.58       132\n",
=======
      "F1 0.5662; AUC 0.5919 \n",
      "Accuracy of classifier on test set: 0.57\n",
      "10-fold cross validation average accuracy of classifier: 0.599\n",
      "Confusion Matrix for Logistic Regression Classfier:\n",
      "[[36 42]\n",
      " [15 39]]\n",
      "Classification Report for Logistic Regression Classfier:\n",
      "             precision    recall  f1-score   support\n",
      "\n",
      "          0       0.71      0.46      0.56        78\n",
      "          1       0.48      0.72      0.58        54\n",
      "\n",
      "avg / total       0.61      0.57      0.57       132\n",
>>>>>>> 9bbc08c488f84db4b5c45d3c322436811327c8b0
      "\n"
     ]
    }
   ],
   "source": [
    "# lists for f1-score and AUC\n",
    "f1_score_lst = []\n",
    "auc_lst = []\n",
    "\n",
    "\n",
    "#loop to calculate f1 and auc scores and present averages after 10 runs\n",
    "for count in range (1,10):\n",
    "    #Model building\n",
    "    clf = LogisticRegression()\n",
    "    X1_train, X1_test, y1_train, y1_test = train_test_split(predictors_y1, y1, test_size=0.2, random_state=123)\n",
    "    clf.fit(X1_train, y1_train)\n",
    "\n",
    "    y1_pred = clf.predict(X1_test)\n",
    "\n",
    "    \n",
    "    #10-fold cross validation\n",
    "    kfold = model_selection.KFold(n_splits=10, random_state=7)\n",
    "    scoring = 'accuracy'\n",
    "    results = model_selection.cross_val_score(clf, X1_train, y1_train, cv=kfold, scoring=scoring)\n",
    "\n",
    "    \n",
    "\n",
    "    \n",
    "    #calculate f1-score and AUC\n",
    "    \n",
    "    clf_roc_auc = roc_auc_score(y1_test, y1_pred)\n",
    "    f1_score_lst.append(precision_recall_fscore_support(y1_test, y1_pred, average='weighted')[2])\n",
    "    auc_lst.append(clf_roc_auc)\n",
    "\n",
    "\n",
    "print('F1 {:.4f}; AUC {:.4f} '.format(np.mean(f1_score_lst),np.mean(auc_lst)))\n",
    "\n",
    "#result=logit_model.fit()\n",
    "confusion_matrix_y1 = confusion_matrix(y1_test, y1_pred)\n",
    "\n",
    "\n",
    "#print(result.summary())\n",
    "print('Accuracy of classifier on test set: {:.2f}'.format(clf.score(X1_test, y1_test)))\n",
    "\n",
    "print(\"10-fold cross validation average accuracy of classifier: %.3f\" % (results.mean()))\n",
    "\n",
    "print('Confusion Matrix for Logistic Regression Classfier:')\n",
    "print(confusion_matrix_y1)\n",
    "\n",
    "print('Classification Report for Logistic Regression Classfier:')\n",
    "print(classification_report(y1_test, y1_pred))\n"
   ]
  },
  {
   "cell_type": "markdown",
   "metadata": {},
   "source": [
    "Below code are used to evaluate model toward `Y2`. It is very similar to the code above - key difference is that `Y2` is imbalanced - so I wrote some code (under `# Begin oversampling`) to deal with that."
   ]
  },
  {
   "cell_type": "code",
<<<<<<< HEAD
   "execution_count": 25,
=======
   "execution_count": 14,
>>>>>>> 9bbc08c488f84db4b5c45d3c322436811327c8b0
   "metadata": {
    "collapsed": false
   },
   "outputs": [
    {
     "name": "stdout",
     "output_type": "stream",
     "text": [
<<<<<<< HEAD
      "F1 0.6436; AUC 0.6728 \n",
      "Accuracy of classifier on test set: 0.614\n",
      "10-fold cross validation average accuracy of clf1: 0.616\n",
      "Confusion Matrix for Classfier:\n",
      "[[27  9]\n",
      " [42 54]]\n",
      "Classification Report for Classfier:\n",
      "             precision    recall  f1-score   support\n",
      "\n",
      "          0       0.39      0.75      0.51        36\n",
      "          1       0.86      0.56      0.68        96\n",
      "\n",
      "avg / total       0.73      0.61      0.63       132\n",
=======
      "F1 0.6415; AUC 0.6634 \n",
      "Accuracy of classifier on test set: 0.636\n",
      "10-fold cross validation average accuracy of clf1: 0.586\n",
      "Confusion Matrix for Classfier:\n",
      "[[28  8]\n",
      " [40 56]]\n",
      "Classification Report for Classfier:\n",
      "             precision    recall  f1-score   support\n",
      "\n",
      "          0       0.41      0.78      0.54        36\n",
      "          1       0.88      0.58      0.70        96\n",
      "\n",
      "avg / total       0.75      0.64      0.66       132\n",
>>>>>>> 9bbc08c488f84db4b5c45d3c322436811327c8b0
      "\n"
     ]
    }
   ],
   "source": [
    "# lists for f1-score and AUC\n",
    "f1_score_lst = []\n",
    "auc_lst = []\n",
    "\n",
    "\n",
    "#loop to calculate f1 and auc scores and present averages after 10 runs\n",
    "for count in range (1,10):\n",
    "    #Model building\n",
    "    clf1 = LogisticRegression()\n",
    "\n",
    "    \n",
    "    # Splitting data into testing and training\n",
    "    X2_train, X2_test, y2_train, y2_test = train_test_split(predictors_y2, y2, test_size=0.2, random_state=123)\n",
    "    \n",
    "    # Begin oversampling\n",
    "    oversample = pd.concat([X2_train,y2_train],axis=1)\n",
    "    max_size = oversample['Y2'].value_counts().max()\n",
    "    lst = [oversample]\n",
    "    for class_index, group in oversample.groupby('Y2'):\n",
    "        lst.append(group.sample(max_size-len(group), replace=True))\n",
    "    X2_train = pd.concat(lst)\n",
    "    y2_train=pd.DataFrame.copy(X2_train['Y2'])\n",
    "    del X2_train['Y2']\n",
    "    \n",
    "    # fitting model on oversampled data\n",
    "    clf1.fit(X2_train, y2_train)\n",
    "    \n",
    "    y2_pred = clf1.predict(X2_test)\n",
    "    \n",
    "    \n",
    "    #10-fold cross validation\n",
    "    kfold = model_selection.KFold(n_splits=10, random_state=123)\n",
    "    scoring = 'accuracy'\n",
    "    results = model_selection.cross_val_score(clf1, X2_train, y2_train, cv=kfold, scoring=scoring)\n",
    "    \n",
    "    #calculate f1-score and AUC\n",
    "    \n",
    "    clf1_roc_auc = roc_auc_score(y2_test, y2_pred)\n",
    "    \n",
    "    \n",
    "    #calculate average f1-score and AUC\n",
    "    f1_score_lst.append(precision_recall_fscore_support(y2_test, y2_pred, average='weighted')[2])\n",
    "    auc_lst.append(clf1_roc_auc)\n",
    "    \n",
    "    \n",
    "print('F1 {:.4f}; AUC {:.4f} '.format(np.mean(f1_score_lst),np.mean(auc_lst)))\n",
    "\n",
    "confusion_matrix_y2 = confusion_matrix(y2_test, y2_pred)\n",
    "\n",
    "\n",
    "print('Accuracy of classifier on test set: {:.3f}'.format(clf1.score(X2_test, y2_test)))\n",
    "\n",
    "print(\"10-fold cross validation average accuracy of clf1: %.3f\" % (results.mean()))\n",
    "\n",
    "print('Confusion Matrix for Classfier:')\n",
    "print(confusion_matrix_y2)\n",
    "\n",
    "print('Classification Report for Classfier:')\n",
    "print(classification_report(y2_test, y2_pred))\n"
   ]
  },
  {
   "cell_type": "code",
   "execution_count": null,
   "metadata": {
    "collapsed": true
   },
   "outputs": [],
   "source": []
  },
  {
   "cell_type": "code",
   "execution_count": null,
   "metadata": {},
   "outputs": [],
   "source": []
  },
  {
   "cell_type": "code",
   "execution_count": null,
   "metadata": {},
   "outputs": [],
   "source": []
  }
 ],
 "metadata": {
  "kernelspec": {
   "display_name": "Python 3",
   "language": "python",
   "name": "python3"
  },
  "language_info": {
   "codemirror_mode": {
    "name": "ipython",
    "version": 3
   },
   "file_extension": ".py",
   "mimetype": "text/x-python",
   "name": "python",
   "nbconvert_exporter": "python",
   "pygments_lexer": "ipython3",
   "version": "3.6.5"
  }
 },
 "nbformat": 4,
 "nbformat_minor": 2
}
