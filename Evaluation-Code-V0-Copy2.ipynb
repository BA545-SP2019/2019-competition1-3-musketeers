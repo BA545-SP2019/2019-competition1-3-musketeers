{
 "cells": [
  {
   "cell_type": "markdown",
   "metadata": {},
   "source": [
    "# Example Evaluation Code\n",
    "\n",
    "This notebook will be very __similar__ to the code I use to evaluate your results - it is provided for __your convenience__ so that you can use it to evaluate your preprocessing results at any time before your __final submission__.\n",
    "\n",
    "Please note that the results here will __NOT__ be the same as my evaluation results.\n",
    "\n",
    "Let's start with loading the required packages."
   ]
  },
  {
   "cell_type": "code",
   "execution_count": 1,
   "metadata": {
    "collapsed": false
   },
   "outputs": [],
   "source": [
    "# import required package for data handling\n",
    "import pandas as pd\n",
    "import numpy as np\n",
    "\n",
    "# import required packages for splitting data\n",
    "from sklearn import model_selection\n",
    "from sklearn.model_selection import cross_val_score\n",
    "from sklearn.model_selection import train_test_split\n",
    "\n",
    "# import required packages for evaluating models\n",
    "from sklearn import metrics\n",
    "from sklearn.metrics import confusion_matrix\n",
    "from sklearn.metrics import classification_report\n",
    "from sklearn.metrics import roc_auc_score\n",
    "from sklearn.metrics import accuracy_score\n",
    "from sklearn.metrics import precision_recall_fscore_support\n",
    "\n",
    "# import `logistic regression` model\n",
    "from sklearn.linear_model import LogisticRegression"
   ]
  },
  {
   "cell_type": "markdown",
   "metadata": {},
   "source": [
    "Next you should load __your__ data. In this case, I am using a sample dataset (`GroupX.csv`) which contains 6 predictors (`X1 - X6`) and two target variables (`Y1, Y2`).\n",
    "\n",
    "Please make sure you change the data to your __OWN__ dataset when using this code.\n",
    "\n",
    "__NOTE__:\n",
    "1. Your dataset maybe very different from the sample dataset.\n",
    "2. Please follow this structure when submitting your dataset."
   ]
  },
  {
   "cell_type": "code",
   "execution_count": 2,
   "metadata": {
    "collapsed": false
   },
   "outputs": [
    {
     "data": {
      "text/html": [
       "<div>\n",
       "<style scoped>\n",
       "    .dataframe tbody tr th:only-of-type {\n",
       "        vertical-align: middle;\n",
       "    }\n",
       "\n",
       "    .dataframe tbody tr th {\n",
       "        vertical-align: top;\n",
       "    }\n",
       "\n",
       "    .dataframe thead th {\n",
       "        text-align: right;\n",
       "    }\n",
       "</style>\n",
       "<table border=\"1\" class=\"dataframe\">\n",
       "  <thead>\n",
       "    <tr style=\"text-align: right;\">\n",
       "      <th></th>\n",
       "      <th>Unnamed: 0</th>\n",
       "      <th>0</th>\n",
       "      <th>1</th>\n",
       "      <th>2</th>\n",
       "      <th>3</th>\n",
       "      <th>4</th>\n",
       "      <th>5</th>\n",
       "      <th>6</th>\n",
       "      <th>7</th>\n",
       "      <th>8</th>\n",
       "      <th>9</th>\n",
       "      <th>10</th>\n",
       "      <th>11</th>\n",
       "      <th>12</th>\n",
       "      <th>13</th>\n",
       "      <th>14</th>\n",
       "      <th>Y1</th>\n",
       "      <th>Y2</th>\n",
       "    </tr>\n",
       "  </thead>\n",
       "  <tbody>\n",
       "    <tr>\n",
       "      <th>0</th>\n",
       "      <td>0</td>\n",
       "      <td>-2.920181</td>\n",
       "      <td>2.718282</td>\n",
       "      <td>0.749962</td>\n",
       "      <td>-6.394336</td>\n",
       "      <td>2.170609</td>\n",
       "      <td>0.541683</td>\n",
       "      <td>-1.233713</td>\n",
       "      <td>-1.158882</td>\n",
       "      <td>-1.457793</td>\n",
       "      <td>1.000000e+00</td>\n",
       "      <td>-3.324522</td>\n",
       "      <td>-2.197225</td>\n",
       "      <td>1.000000e+00</td>\n",
       "      <td>-20.723266</td>\n",
       "      <td>1.000000e-09</td>\n",
       "      <td>0</td>\n",
       "      <td>1</td>\n",
       "    </tr>\n",
       "    <tr>\n",
       "      <th>1</th>\n",
       "      <td>1</td>\n",
       "      <td>-2.121227</td>\n",
       "      <td>1.000000</td>\n",
       "      <td>0.583748</td>\n",
       "      <td>-7.078686</td>\n",
       "      <td>2.182007</td>\n",
       "      <td>0.473428</td>\n",
       "      <td>-1.914959</td>\n",
       "      <td>-0.919460</td>\n",
       "      <td>-1.467295</td>\n",
       "      <td>1.000000e-09</td>\n",
       "      <td>-2.136719</td>\n",
       "      <td>-20.723266</td>\n",
       "      <td>1.000000e+00</td>\n",
       "      <td>-20.723266</td>\n",
       "      <td>1.000000e-09</td>\n",
       "      <td>1</td>\n",
       "      <td>0</td>\n",
       "    </tr>\n",
       "    <tr>\n",
       "      <th>2</th>\n",
       "      <td>2</td>\n",
       "      <td>-3.256653</td>\n",
       "      <td>2.718282</td>\n",
       "      <td>0.717213</td>\n",
       "      <td>-8.343035</td>\n",
       "      <td>2.161148</td>\n",
       "      <td>0.721351</td>\n",
       "      <td>-0.117579</td>\n",
       "      <td>-1.695801</td>\n",
       "      <td>-1.376582</td>\n",
       "      <td>1.000000e-09</td>\n",
       "      <td>-3.473351</td>\n",
       "      <td>-20.723266</td>\n",
       "      <td>1.000000e+00</td>\n",
       "      <td>-20.723266</td>\n",
       "      <td>1.000000e-09</td>\n",
       "      <td>1</td>\n",
       "      <td>0</td>\n",
       "    </tr>\n",
       "    <tr>\n",
       "      <th>3</th>\n",
       "      <td>3</td>\n",
       "      <td>-2.345375</td>\n",
       "      <td>2.718282</td>\n",
       "      <td>0.714502</td>\n",
       "      <td>-8.197055</td>\n",
       "      <td>1.921364</td>\n",
       "      <td>0.718150</td>\n",
       "      <td>-0.329291</td>\n",
       "      <td>-1.503705</td>\n",
       "      <td>-1.102471</td>\n",
       "      <td>1.000000e-09</td>\n",
       "      <td>-3.496110</td>\n",
       "      <td>-20.723266</td>\n",
       "      <td>1.000000e+00</td>\n",
       "      <td>-20.723266</td>\n",
       "      <td>1.000000e-09</td>\n",
       "      <td>1</td>\n",
       "      <td>1</td>\n",
       "    </tr>\n",
       "    <tr>\n",
       "      <th>4</th>\n",
       "      <td>4</td>\n",
       "      <td>-3.390185</td>\n",
       "      <td>2.718282</td>\n",
       "      <td>0.499347</td>\n",
       "      <td>-3.882218</td>\n",
       "      <td>2.035730</td>\n",
       "      <td>0.405407</td>\n",
       "      <td>-1.349143</td>\n",
       "      <td>-1.045199</td>\n",
       "      <td>-1.400152</td>\n",
       "      <td>1.000000e+00</td>\n",
       "      <td>-3.363842</td>\n",
       "      <td>-2.995732</td>\n",
       "      <td>1.000000e-09</td>\n",
       "      <td>-20.723266</td>\n",
       "      <td>1.000000e+00</td>\n",
       "      <td>0</td>\n",
       "      <td>1</td>\n",
       "    </tr>\n",
       "  </tbody>\n",
       "</table>\n",
       "</div>"
      ],
      "text/plain": [
       "   Unnamed: 0         0         1         2         3         4         5  \\\n",
       "0           0 -2.920181  2.718282  0.749962 -6.394336  2.170609  0.541683   \n",
       "1           1 -2.121227  1.000000  0.583748 -7.078686  2.182007  0.473428   \n",
       "2           2 -3.256653  2.718282  0.717213 -8.343035  2.161148  0.721351   \n",
       "3           3 -2.345375  2.718282  0.714502 -8.197055  1.921364  0.718150   \n",
       "4           4 -3.390185  2.718282  0.499347 -3.882218  2.035730  0.405407   \n",
       "\n",
       "          6         7         8             9        10         11  \\\n",
       "0 -1.233713 -1.158882 -1.457793  1.000000e+00 -3.324522  -2.197225   \n",
       "1 -1.914959 -0.919460 -1.467295  1.000000e-09 -2.136719 -20.723266   \n",
       "2 -0.117579 -1.695801 -1.376582  1.000000e-09 -3.473351 -20.723266   \n",
       "3 -0.329291 -1.503705 -1.102471  1.000000e-09 -3.496110 -20.723266   \n",
       "4 -1.349143 -1.045199 -1.400152  1.000000e+00 -3.363842  -2.995732   \n",
       "\n",
       "             12         13            14  Y1  Y2  \n",
       "0  1.000000e+00 -20.723266  1.000000e-09   0   1  \n",
       "1  1.000000e+00 -20.723266  1.000000e-09   1   0  \n",
       "2  1.000000e+00 -20.723266  1.000000e-09   1   0  \n",
       "3  1.000000e+00 -20.723266  1.000000e-09   1   1  \n",
       "4  1.000000e-09 -20.723266  1.000000e+00   0   1  "
      ]
     },
     "execution_count": 2,
     "metadata": {},
     "output_type": "execute_result"
    }
   ],
   "source": [
    "data = pd.read_csv('./Datasets/AAAA.csv', header=0)\n",
    "data.head()"
   ]
  },
  {
   "cell_type": "markdown",
   "metadata": {},
   "source": [
    "Checking your data types and make sure it follows the data dictionary would be an important step, you can do that using the `.dtypes` attribute.\n",
    "\n",
    "__NOTE__: all __continuous__ faetures will be in `float64` data type, and all __categorical__ features will be in `int64` data type (given you already coded (per __suggest task \\#6__ in the competition document) them)."
   ]
  },
  {
   "cell_type": "code",
   "execution_count": 3,
   "metadata": {
    "collapsed": false
   },
   "outputs": [
    {
     "data": {
      "text/plain": [
       "Unnamed: 0      int64\n",
       "0             float64\n",
       "1             float64\n",
       "2             float64\n",
       "3             float64\n",
       "4             float64\n",
       "5             float64\n",
       "6             float64\n",
       "7             float64\n",
       "8             float64\n",
       "9             float64\n",
       "10            float64\n",
       "11            float64\n",
       "12            float64\n",
       "13            float64\n",
       "14            float64\n",
       "Y1              int64\n",
       "Y2              int64\n",
       "dtype: object"
      ]
     },
     "execution_count": 3,
     "metadata": {},
     "output_type": "execute_result"
    }
   ],
   "source": [
    "data.dtypes"
   ]
  },
  {
   "cell_type": "markdown",
   "metadata": {},
   "source": [
    "Now you need to specify your targets and predictors. __NOTE__ we have two targets here (`Y1, Y2`)."
   ]
  },
  {
   "cell_type": "code",
   "execution_count": 4,
   "metadata": {
    "collapsed": true
   },
   "outputs": [],
   "source": [
    "y1 = data.Y1\n",
    "y2 = data.Y2"
   ]
  },
  {
   "cell_type": "markdown",
   "metadata": {},
   "source": [
    "Check the shape of the data."
   ]
  },
  {
   "cell_type": "code",
   "execution_count": 5,
   "metadata": {
    "collapsed": false
   },
   "outputs": [
    {
     "data": {
      "text/plain": [
       "(660, 18)"
      ]
     },
     "execution_count": 5,
     "metadata": {},
     "output_type": "execute_result"
    }
   ],
   "source": [
    "data.shape"
   ]
  },
  {
   "cell_type": "markdown",
   "metadata": {},
   "source": [
    "It is very possible that you will use different sets of the predictors for `Y1` and `Y2`. Now let's define them.\n",
    "\n",
    "First, let's define predictors for `Y1` - which will be the first 5 features in `data`."
   ]
  },
  {
   "cell_type": "code",
   "execution_count": 7,
   "metadata": {
    "collapsed": false
   },
   "outputs": [
    {
     "data": {
      "text/plain": [
       "['Unnamed: 0',\n",
       " '0',\n",
       " '1',\n",
       " '2',\n",
       " '3',\n",
       " '4',\n",
       " '5',\n",
       " '6',\n",
       " '7',\n",
       " '8',\n",
       " '9',\n",
       " '10',\n",
       " '11',\n",
       " '12',\n",
       " '13',\n",
       " '14']"
      ]
     },
     "execution_count": 7,
     "metadata": {},
     "output_type": "execute_result"
    }
   ],
   "source": [
    "cols = list(data.columns)\n",
    "# first 5 features \n",
    "cols[:-2]"
   ]
  },
  {
   "cell_type": "markdown",
   "metadata": {},
   "source": [
    "Use below code to select best as predictors for `Y1`."
   ]
  },
  {
   "cell_type": "code",
   "execution_count": 38,
   "metadata": {},
   "outputs": [],
   "source": [
    "datay1 = data[[\"1\",\"2\", \"4\",\"5\", \"7\",\"8\"]]  "
   ]
  },
  {
   "cell_type": "code",
   "execution_count": 39,
   "metadata": {},
   "outputs": [],
   "source": [
    "#datay2 = data[[\"1\",\"2\",\"6\",\"7\",\"8\",\"10\",\"11\"]]\n",
    "datay2 = data[[\"1\",\"2\",\"4\",\"5\",\"7\", \"10\"]]  "
   ]
  },
  {
   "cell_type": "code",
   "execution_count": 40,
   "metadata": {},
   "outputs": [],
   "source": [
    "#datay1 = data.drop(data.columns[12], axis = 1)"
   ]
  },
  {
   "cell_type": "code",
   "execution_count": 41,
   "metadata": {},
   "outputs": [],
   "source": [
    "#datay1[datay1.columns[0:15]]"
   ]
  },
  {
   "cell_type": "code",
   "execution_count": 42,
   "metadata": {
    "collapsed": false
   },
   "outputs": [
    {
     "data": {
      "text/html": [
       "<div>\n",
       "<style scoped>\n",
       "    .dataframe tbody tr th:only-of-type {\n",
       "        vertical-align: middle;\n",
       "    }\n",
       "\n",
       "    .dataframe tbody tr th {\n",
       "        vertical-align: top;\n",
       "    }\n",
       "\n",
       "    .dataframe thead th {\n",
       "        text-align: right;\n",
       "    }\n",
       "</style>\n",
       "<table border=\"1\" class=\"dataframe\">\n",
       "  <thead>\n",
       "    <tr style=\"text-align: right;\">\n",
       "      <th></th>\n",
       "      <th>1</th>\n",
       "      <th>2</th>\n",
       "      <th>4</th>\n",
       "      <th>5</th>\n",
       "      <th>7</th>\n",
       "      <th>8</th>\n",
       "    </tr>\n",
       "  </thead>\n",
       "  <tbody>\n",
       "    <tr>\n",
       "      <th>0</th>\n",
       "      <td>2.718282</td>\n",
       "      <td>0.749962</td>\n",
       "      <td>2.170609</td>\n",
       "      <td>0.541683</td>\n",
       "      <td>-1.158882</td>\n",
       "      <td>-1.457793</td>\n",
       "    </tr>\n",
       "    <tr>\n",
       "      <th>1</th>\n",
       "      <td>1.000000</td>\n",
       "      <td>0.583748</td>\n",
       "      <td>2.182007</td>\n",
       "      <td>0.473428</td>\n",
       "      <td>-0.919460</td>\n",
       "      <td>-1.467295</td>\n",
       "    </tr>\n",
       "    <tr>\n",
       "      <th>2</th>\n",
       "      <td>2.718282</td>\n",
       "      <td>0.717213</td>\n",
       "      <td>2.161148</td>\n",
       "      <td>0.721351</td>\n",
       "      <td>-1.695801</td>\n",
       "      <td>-1.376582</td>\n",
       "    </tr>\n",
       "    <tr>\n",
       "      <th>3</th>\n",
       "      <td>2.718282</td>\n",
       "      <td>0.714502</td>\n",
       "      <td>1.921364</td>\n",
       "      <td>0.718150</td>\n",
       "      <td>-1.503705</td>\n",
       "      <td>-1.102471</td>\n",
       "    </tr>\n",
       "    <tr>\n",
       "      <th>4</th>\n",
       "      <td>2.718282</td>\n",
       "      <td>0.499347</td>\n",
       "      <td>2.035730</td>\n",
       "      <td>0.405407</td>\n",
       "      <td>-1.045199</td>\n",
       "      <td>-1.400152</td>\n",
       "    </tr>\n",
       "  </tbody>\n",
       "</table>\n",
       "</div>"
      ],
      "text/plain": [
       "          1         2         4         5         7         8\n",
       "0  2.718282  0.749962  2.170609  0.541683 -1.158882 -1.457793\n",
       "1  1.000000  0.583748  2.182007  0.473428 -0.919460 -1.467295\n",
       "2  2.718282  0.717213  2.161148  0.721351 -1.695801 -1.376582\n",
       "3  2.718282  0.714502  1.921364  0.718150 -1.503705 -1.102471\n",
       "4  2.718282  0.499347  2.035730  0.405407 -1.045199 -1.400152"
      ]
     },
     "execution_count": 42,
     "metadata": {},
     "output_type": "execute_result"
    }
   ],
   "source": [
    "\n",
    "predictors_y1 = datay1\n",
    "\n",
    "predictors_y1.head()"
   ]
  },
  {
   "cell_type": "markdown",
   "metadata": {},
   "source": [
    "Upon investigation of the data, we know we have __six__ features (`X1 - X6`) predicting `Y2`. Use similar code (as below) to select them."
   ]
  },
  {
   "cell_type": "code",
   "execution_count": 43,
   "metadata": {
    "collapsed": false
   },
   "outputs": [
    {
     "data": {
      "text/html": [
       "<div>\n",
       "<style scoped>\n",
       "    .dataframe tbody tr th:only-of-type {\n",
       "        vertical-align: middle;\n",
       "    }\n",
       "\n",
       "    .dataframe tbody tr th {\n",
       "        vertical-align: top;\n",
       "    }\n",
       "\n",
       "    .dataframe thead th {\n",
       "        text-align: right;\n",
       "    }\n",
       "</style>\n",
       "<table border=\"1\" class=\"dataframe\">\n",
       "  <thead>\n",
       "    <tr style=\"text-align: right;\">\n",
       "      <th></th>\n",
       "      <th>1</th>\n",
       "      <th>2</th>\n",
       "      <th>4</th>\n",
       "      <th>5</th>\n",
       "      <th>7</th>\n",
       "      <th>10</th>\n",
       "    </tr>\n",
       "  </thead>\n",
       "  <tbody>\n",
       "    <tr>\n",
       "      <th>0</th>\n",
       "      <td>2.718282</td>\n",
       "      <td>0.749962</td>\n",
       "      <td>2.170609</td>\n",
       "      <td>0.541683</td>\n",
       "      <td>-1.158882</td>\n",
       "      <td>-3.324522</td>\n",
       "    </tr>\n",
       "    <tr>\n",
       "      <th>1</th>\n",
       "      <td>1.000000</td>\n",
       "      <td>0.583748</td>\n",
       "      <td>2.182007</td>\n",
       "      <td>0.473428</td>\n",
       "      <td>-0.919460</td>\n",
       "      <td>-2.136719</td>\n",
       "    </tr>\n",
       "    <tr>\n",
       "      <th>2</th>\n",
       "      <td>2.718282</td>\n",
       "      <td>0.717213</td>\n",
       "      <td>2.161148</td>\n",
       "      <td>0.721351</td>\n",
       "      <td>-1.695801</td>\n",
       "      <td>-3.473351</td>\n",
       "    </tr>\n",
       "    <tr>\n",
       "      <th>3</th>\n",
       "      <td>2.718282</td>\n",
       "      <td>0.714502</td>\n",
       "      <td>1.921364</td>\n",
       "      <td>0.718150</td>\n",
       "      <td>-1.503705</td>\n",
       "      <td>-3.496110</td>\n",
       "    </tr>\n",
       "    <tr>\n",
       "      <th>4</th>\n",
       "      <td>2.718282</td>\n",
       "      <td>0.499347</td>\n",
       "      <td>2.035730</td>\n",
       "      <td>0.405407</td>\n",
       "      <td>-1.045199</td>\n",
       "      <td>-3.363842</td>\n",
       "    </tr>\n",
       "  </tbody>\n",
       "</table>\n",
       "</div>"
      ],
      "text/plain": [
       "          1         2         4         5         7        10\n",
       "0  2.718282  0.749962  2.170609  0.541683 -1.158882 -3.324522\n",
       "1  1.000000  0.583748  2.182007  0.473428 -0.919460 -2.136719\n",
       "2  2.718282  0.717213  2.161148  0.721351 -1.695801 -3.473351\n",
       "3  2.718282  0.714502  1.921364  0.718150 -1.503705 -3.496110\n",
       "4  2.718282  0.499347  2.035730  0.405407 -1.045199 -3.363842"
      ]
     },
     "execution_count": 43,
     "metadata": {},
     "output_type": "execute_result"
    }
   ],
   "source": [
    "predictors_y2 = datay2\n",
    "\n",
    "predictors_y2.head()"
   ]
  },
  {
   "cell_type": "markdown",
   "metadata": {},
   "source": [
    "Below is the key part of this notebook - which generates a `logistic regression` model to predict `Y1`/`Y2`.\n",
    "\n",
    "The code works this way:\n",
    "\n",
    "1. We generate two lists `f1_score_lst` and `auc_lst` to store f1_score and AUC from each of the `10` runs of the model;\n",
    "2. Define model:\n",
    "    1. We define a `LogisticRegression()` model;\n",
    "    \n",
    "    2. We split predictors (`predictors_y1`) and target `y1` to training (80%) and testing (20%);\n",
    "    \n",
    "    3. We fit the model `clf` to the training data, then use it to predict on the testing data;\n",
    "    \n",
    "    4. We also defined a `10-fold cross validation` to make sure our model do not overfit - see [here](https://scikit-learn.org/stable/modules/cross_validation.html) for more info;\n",
    "    \n",
    "    5. We append the f1_score and AUC of current model to the lists (`f1_score_lst` and `auc_lst`) we defined earlier.\n",
    "  \n",
    "3. Print out average f1_score and AUC for all 10 runs;\n",
    "4. Print out average average accuracy from cross validation\n",
    "5. Print out confusion matrix and classification report for the __last__ model.\n",
    "\n",
    "__NOTE__: Step 3 provides the evaluation results we need; step 4 - 5 can be used to verify the results from step 3."
   ]
  },
  {
   "cell_type": "code",
   "execution_count": 44,
   "metadata": {
    "collapsed": false
   },
   "outputs": [
    {
     "name": "stdout",
     "output_type": "stream",
     "text": [
      "F1 0.6301; AUC 0.6460 \n",
      "Accuracy of classifier on test set: 0.63\n",
      "10-fold cross validation average accuracy of classifier: 0.589\n",
      "Confusion Matrix for Logistic Regression Classfier:\n",
      "[[43 35]\n",
      " [14 40]]\n",
      "Classification Report for Logistic Regression Classfier:\n",
      "             precision    recall  f1-score   support\n",
      "\n",
      "          0       0.75      0.55      0.64        78\n",
      "          1       0.53      0.74      0.62        54\n",
      "\n",
      "avg / total       0.66      0.63      0.63       132\n",
      "\n"
     ]
    }
   ],
   "source": [
    "# lists for f1-score and AUC\n",
    "f1_score_lst = []\n",
    "auc_lst = []\n",
    "\n",
    "\n",
    "#loop to calculate f1 and auc scores and present averages after 10 runs\n",
    "for count in range (1,10):\n",
    "    #Model building\n",
    "    clf = LogisticRegression()\n",
    "    X1_train, X1_test, y1_train, y1_test = train_test_split(predictors_y1, y1, test_size=0.2, random_state=123)\n",
    "    clf.fit(X1_train, y1_train)\n",
    "\n",
    "    y1_pred = clf.predict(X1_test)\n",
    "\n",
    "    \n",
    "    #10-fold cross validation\n",
    "    kfold = model_selection.KFold(n_splits=10, random_state=7)\n",
    "    scoring = 'accuracy'\n",
    "    results = model_selection.cross_val_score(clf, X1_train, y1_train, cv=kfold, scoring=scoring)\n",
    "\n",
    "    \n",
    "\n",
    "    \n",
    "    #calculate f1-score and AUC\n",
    "    \n",
    "    clf_roc_auc = roc_auc_score(y1_test, y1_pred)\n",
    "    f1_score_lst.append(precision_recall_fscore_support(y1_test, y1_pred, average='weighted')[2])\n",
    "    auc_lst.append(clf_roc_auc)\n",
    "\n",
    "\n",
    "print('F1 {:.4f}; AUC {:.4f} '.format(np.mean(f1_score_lst),np.mean(auc_lst)))\n",
    "\n",
    "#result=logit_model.fit()\n",
    "confusion_matrix_y1 = confusion_matrix(y1_test, y1_pred)\n",
    "\n",
    "\n",
    "#print(result.summary())\n",
    "print('Accuracy of classifier on test set: {:.2f}'.format(clf.score(X1_test, y1_test)))\n",
    "\n",
    "print(\"10-fold cross validation average accuracy of classifier: %.3f\" % (results.mean()))\n",
    "\n",
    "print('Confusion Matrix for Logistic Regression Classfier:')\n",
    "print(confusion_matrix_y1)\n",
    "\n",
    "print('Classification Report for Logistic Regression Classfier:')\n",
    "print(classification_report(y1_test, y1_pred))\n"
   ]
  },
  {
   "cell_type": "markdown",
   "metadata": {},
   "source": [
    "Below code are used to evaluate model toward `Y2`. It is very similar to the code above - key difference is that `Y2` is imbalanced - so I wrote some code (under `# Begin oversampling`) to deal with that."
   ]
  },
  {
   "cell_type": "code",
   "execution_count": 45,
   "metadata": {
    "collapsed": false
   },
   "outputs": [
    {
     "name": "stdout",
     "output_type": "stream",
     "text": [
      "F1 0.6393; AUC 0.6069 \n",
      "Accuracy of classifier on test set: 0.629\n",
      "10-fold cross validation average accuracy of clf1: 0.478\n",
      "Confusion Matrix for Classfier:\n",
      "[[21 15]\n",
      " [34 62]]\n",
      "Classification Report for Classfier:\n",
      "             precision    recall  f1-score   support\n",
      "\n",
      "          0       0.38      0.58      0.46        36\n",
      "          1       0.81      0.65      0.72        96\n",
      "\n",
      "avg / total       0.69      0.63      0.65       132\n",
      "\n"
     ]
    }
   ],
   "source": [
    "# lists for f1-score and AUC\n",
    "f1_score_lst = []\n",
    "auc_lst = []\n",
    "\n",
    "\n",
    "#loop to calculate f1 and auc scores and present averages after 10 runs\n",
    "for count in range (1,10):\n",
    "    #Model building\n",
    "    clf1 = LogisticRegression()\n",
    "\n",
    "    \n",
    "    # Splitting data into testing and training\n",
    "    X2_train, X2_test, y2_train, y2_test = train_test_split(predictors_y2, y2, test_size=0.2, random_state=123)\n",
    "    \n",
    "    # Begin oversampling\n",
    "    oversample = pd.concat([X2_train,y2_train],axis=1)\n",
    "    max_size = oversample['Y2'].value_counts().max()\n",
    "    lst = [oversample]\n",
    "    for class_index, group in oversample.groupby('Y2'):\n",
    "        lst.append(group.sample(max_size-len(group), replace=True))\n",
    "    X2_train = pd.concat(lst)\n",
    "    y2_train=pd.DataFrame.copy(X2_train['Y2'])\n",
    "    del X2_train['Y2']\n",
    "    \n",
    "    # fitting model on oversampled data\n",
    "    clf1.fit(X2_train, y2_train)\n",
    "    \n",
    "    y2_pred = clf1.predict(X2_test)\n",
    "    \n",
    "    \n",
    "    #10-fold cross validation\n",
    "    kfold = model_selection.KFold(n_splits=10, random_state=123)\n",
    "    scoring = 'accuracy'\n",
    "    results = model_selection.cross_val_score(clf1, X2_train, y2_train, cv=kfold, scoring=scoring)\n",
    "    \n",
    "    #calculate f1-score and AUC\n",
    "    \n",
    "    clf1_roc_auc = roc_auc_score(y2_test, y2_pred)\n",
    "    \n",
    "    \n",
    "    #calculate average f1-score and AUC\n",
    "    f1_score_lst.append(precision_recall_fscore_support(y2_test, y2_pred, average='weighted')[2])\n",
    "    auc_lst.append(clf1_roc_auc)\n",
    "    \n",
    "    \n",
    "print('F1 {:.4f}; AUC {:.4f} '.format(np.mean(f1_score_lst),np.mean(auc_lst)))\n",
    "\n",
    "confusion_matrix_y2 = confusion_matrix(y2_test, y2_pred)\n",
    "\n",
    "\n",
    "print('Accuracy of classifier on test set: {:.3f}'.format(clf1.score(X2_test, y2_test)))\n",
    "\n",
    "print(\"10-fold cross validation average accuracy of clf1: %.3f\" % (results.mean()))\n",
    "\n",
    "print('Confusion Matrix for Classfier:')\n",
    "print(confusion_matrix_y2)\n",
    "\n",
    "print('Classification Report for Classfier:')\n",
    "print(classification_report(y2_test, y2_pred))\n"
   ]
  },
  {
   "cell_type": "code",
   "execution_count": null,
   "metadata": {
    "collapsed": true
   },
   "outputs": [],
   "source": []
  },
  {
   "cell_type": "code",
   "execution_count": null,
   "metadata": {},
   "outputs": [],
   "source": []
  },
  {
   "cell_type": "code",
   "execution_count": null,
   "metadata": {},
   "outputs": [],
   "source": []
  }
 ],
 "metadata": {
  "kernelspec": {
   "display_name": "Python 3",
   "language": "python",
   "name": "python3"
  },
  "language_info": {
   "codemirror_mode": {
    "name": "ipython",
    "version": 3
   },
   "file_extension": ".py",
   "mimetype": "text/x-python",
   "name": "python",
   "nbconvert_exporter": "python",
   "pygments_lexer": "ipython3",
   "version": "3.6.5"
  }
 },
 "nbformat": 4,
 "nbformat_minor": 2
}
