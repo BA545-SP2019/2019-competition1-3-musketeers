{
 "cells": [
  {
   "cell_type": "markdown",
   "metadata": {},
   "source": [
    "# Competition 1\n",
    "\n",
    "## the purpose of this notebook is yada yada yada\n",
    "\n",
    "backround info on the topic\n",
    "\n",
    "directions as to what we did (to be filled out later)\n",
    "\n",
    "here are our steps"
   ]
  },
  {
   "cell_type": "code",
   "execution_count": 1,
   "metadata": {},
   "outputs": [],
   "source": [
    "# importing proper libraries\n",
    "import numpy as np\n",
    "import pandas as pd\n",
    "import matplotlib.pyplot as plt\n",
    "import seaborn as sns\n",
    "sns.set()\n",
    "import sklearn\n"
   ]
  },
  {
   "cell_type": "markdown",
   "metadata": {},
   "source": [
    "Here is the data dictionary in used as a reference of column names.\n",
    "![Variable Dictionary](data_dictionary.PNG)"
   ]
  },
  {
   "cell_type": "markdown",
   "metadata": {},
   "source": [
    "# create an initial data frame from data supplied to us\n",
    "df  = pd.read_excel('Competition1_raw_data.xlsx', header=0,)\n",
    "df.head()"
   ]
  },
  {
   "cell_type": "markdown",
   "metadata": {},
   "source": [
    "## let's do some prelimanry EDA to get a sense of what we are dealing with\n",
    "\n",
    "## First, let's look at some characteristics including data types, count, and simple distributions"
   ]
  },
  {
   "cell_type": "markdown",
   "metadata": {},
   "source": [
    "# let's look at column values and their types\n",
    "df.info()"
   ]
  },
  {
   "cell_type": "markdown",
   "metadata": {},
   "source": [
    "Hmm, every column is classified as an object. We know that some columns, like C1 should be at least an integer. let's look at a couple of columns to see if they all share a common source error."
   ]
  },
  {
   "cell_type": "code",
   "execution_count": 13,
   "metadata": {},
   "outputs": [
    {
     "data": {
      "text/plain": [
       "-      22\n",
       "93     15\n",
       "84     14\n",
       "77     13\n",
       "92     13\n",
       "112    12\n",
       "91     12\n",
       "119    12\n",
       "85     11\n",
       "78     10\n",
       "100    10\n",
       "76     10\n",
       "104    10\n",
       "111    10\n",
       "94     10\n",
       "98      9\n",
       "105     9\n",
       "79      8\n",
       "147     7\n",
       "140     7\n",
       "89      7\n",
       "83      7\n",
       "70      7\n",
       "90      7\n",
       "72      7\n",
       "124     7\n",
       "106     7\n",
       "107     7\n",
       "118     6\n",
       "133     6\n",
       "       ..\n",
       "161     1\n",
       "506     1\n",
       "153     1\n",
       "658     1\n",
       "131     1\n",
       "203     1\n",
       "206     1\n",
       "257     1\n",
       "25      1\n",
       "251     1\n",
       "243     1\n",
       "307     1\n",
       "241     1\n",
       "240     1\n",
       "237     1\n",
       "234     1\n",
       "233     1\n",
       "230     1\n",
       "227     1\n",
       "207     1\n",
       "226     1\n",
       "225     1\n",
       "736     1\n",
       "223     1\n",
       "222     1\n",
       "218     1\n",
       "217     1\n",
       "215     1\n",
       "213     1\n",
       "520     1\n",
       "Name: C1, Length: 245, dtype: int64"
      ]
     },
     "execution_count": 13,
     "metadata": {},
     "output_type": "execute_result"
    }
   ],
   "source": [
    "df['C1'].value_counts()"
   ]
  },
  {
   "cell_type": "markdown",
   "metadata": {},
   "source": [
    "There are 22 instances of \"-\", which, as described by the data dictionary, is a missing value. This format is not very useful, so we will convert all '-' to NaN values.  "
   ]
  },
  {
   "cell_type": "code",
   "execution_count": 41,
   "metadata": {},
   "outputs": [],
   "source": [
    "df = df.replace('-', np.NaN)"
   ]
  },
  {
   "cell_type": "markdown",
   "metadata": {},
   "source": [
    "df.head(20)"
   ]
  },
  {
   "cell_type": "markdown",
   "metadata": {},
   "source": [
    "AS OF NOW, WE HAVE LOADED A DATAFRAME AND REPLACED ALL \"-\" WITH NAN VALUES."
   ]
  },
  {
   "cell_type": "code",
   "execution_count": null,
   "metadata": {},
   "outputs": [],
   "source": []
  }
 ],
 "metadata": {
  "kernelspec": {
   "display_name": "Python 3",
   "language": "python",
   "name": "python3"
  },
  "language_info": {
   "codemirror_mode": {
    "name": "ipython",
    "version": 3
   },
   "file_extension": ".py",
   "mimetype": "text/x-python",
   "name": "python",
   "nbconvert_exporter": "python",
   "pygments_lexer": "ipython3",
   "version": "3.6.5"
  }
 },
 "nbformat": 4,
 "nbformat_minor": 2
}
