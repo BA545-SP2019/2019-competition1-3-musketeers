{
 "cells": [
  {
   "cell_type": "code",
   "execution_count": 1,
   "metadata": {},
   "outputs": [],
   "source": [
    "import numpy as np\n",
    "import pandas as pd"
   ]
  },
  {
   "cell_type": "code",
   "execution_count": 2,
   "metadata": {},
   "outputs": [
    {
     "data": {
      "text/html": [
       "<div>\n",
       "<style scoped>\n",
       "    .dataframe tbody tr th:only-of-type {\n",
       "        vertical-align: middle;\n",
       "    }\n",
       "\n",
       "    .dataframe tbody tr th {\n",
       "        vertical-align: top;\n",
       "    }\n",
       "\n",
       "    .dataframe thead th {\n",
       "        text-align: right;\n",
       "    }\n",
       "</style>\n",
       "<table border=\"1\" class=\"dataframe\">\n",
       "  <thead>\n",
       "    <tr style=\"text-align: right;\">\n",
       "      <th></th>\n",
       "      <th>C1</th>\n",
       "      <th>C2</th>\n",
       "      <th>C4</th>\n",
       "      <th>C7</th>\n",
       "      <th>%_long_sentences</th>\n",
       "      <th>%_long_words</th>\n",
       "      <th>%_positive_words</th>\n",
       "      <th>%_negative_words</th>\n",
       "      <th>%_uncertain_words</th>\n",
       "      <th>C3'</th>\n",
       "      <th>C5'</th>\n",
       "      <th>C6'</th>\n",
       "      <th>one_hot_Manufacturing</th>\n",
       "      <th>one_hot_Other</th>\n",
       "      <th>one_hot_Public Services</th>\n",
       "      <th>one_hot_Wholesale  Trade</th>\n",
       "    </tr>\n",
       "  </thead>\n",
       "  <tbody>\n",
       "    <tr>\n",
       "      <th>0</th>\n",
       "      <td>122.0</td>\n",
       "      <td>1.0</td>\n",
       "      <td>0.029074</td>\n",
       "      <td>51.345</td>\n",
       "      <td>0.640426</td>\n",
       "      <td>0.054250</td>\n",
       "      <td>0.004875</td>\n",
       "      <td>0.009199</td>\n",
       "      <td>0.010929</td>\n",
       "      <td>1</td>\n",
       "      <td>3.864345</td>\n",
       "      <td>11.111111</td>\n",
       "      <td>1</td>\n",
       "      <td>0</td>\n",
       "      <td>0</td>\n",
       "      <td>0</td>\n",
       "    </tr>\n",
       "    <tr>\n",
       "      <th>1</th>\n",
       "      <td>259.0</td>\n",
       "      <td>0.0</td>\n",
       "      <td>-0.013352</td>\n",
       "      <td>25.936</td>\n",
       "      <td>0.644753</td>\n",
       "      <td>0.051395</td>\n",
       "      <td>0.003258</td>\n",
       "      <td>0.011105</td>\n",
       "      <td>0.010876</td>\n",
       "      <td>0</td>\n",
       "      <td>12.028832</td>\n",
       "      <td>0.000000</td>\n",
       "      <td>1</td>\n",
       "      <td>0</td>\n",
       "      <td>0</td>\n",
       "      <td>0</td>\n",
       "    </tr>\n",
       "    <tr>\n",
       "      <th>2</th>\n",
       "      <td>90.0</td>\n",
       "      <td>1.0</td>\n",
       "      <td>0.020715</td>\n",
       "      <td>7.378</td>\n",
       "      <td>0.636816</td>\n",
       "      <td>0.061764</td>\n",
       "      <td>0.011593</td>\n",
       "      <td>0.006271</td>\n",
       "      <td>0.011403</td>\n",
       "      <td>0</td>\n",
       "      <td>3.369134</td>\n",
       "      <td>0.000000</td>\n",
       "      <td>1</td>\n",
       "      <td>0</td>\n",
       "      <td>0</td>\n",
       "      <td>0</td>\n",
       "    </tr>\n",
       "    <tr>\n",
       "      <th>3</th>\n",
       "      <td>209.0</td>\n",
       "      <td>1.0</td>\n",
       "      <td>0.020023</td>\n",
       "      <td>8.526</td>\n",
       "      <td>0.539634</td>\n",
       "      <td>0.061630</td>\n",
       "      <td>0.009686</td>\n",
       "      <td>0.007144</td>\n",
       "      <td>0.013319</td>\n",
       "      <td>0</td>\n",
       "      <td>3.299697</td>\n",
       "      <td>0.000000</td>\n",
       "      <td>1</td>\n",
       "      <td>0</td>\n",
       "      <td>0</td>\n",
       "      <td>0</td>\n",
       "    </tr>\n",
       "    <tr>\n",
       "      <th>4</th>\n",
       "      <td>80.0</td>\n",
       "      <td>1.0</td>\n",
       "      <td>-0.034895</td>\n",
       "      <td>632.298</td>\n",
       "      <td>0.587413</td>\n",
       "      <td>0.048550</td>\n",
       "      <td>0.004518</td>\n",
       "      <td>0.010047</td>\n",
       "      <td>0.011261</td>\n",
       "      <td>1</td>\n",
       "      <td>3.726269</td>\n",
       "      <td>5.000000</td>\n",
       "      <td>0</td>\n",
       "      <td>0</td>\n",
       "      <td>1</td>\n",
       "      <td>0</td>\n",
       "    </tr>\n",
       "  </tbody>\n",
       "</table>\n",
       "</div>"
      ],
      "text/plain": [
       "      C1   C2        C4       C7  %_long_sentences  %_long_words  \\\n",
       "0  122.0  1.0  0.029074   51.345          0.640426      0.054250   \n",
       "1  259.0  0.0 -0.013352   25.936          0.644753      0.051395   \n",
       "2   90.0  1.0  0.020715    7.378          0.636816      0.061764   \n",
       "3  209.0  1.0  0.020023    8.526          0.539634      0.061630   \n",
       "4   80.0  1.0 -0.034895  632.298          0.587413      0.048550   \n",
       "\n",
       "   %_positive_words  %_negative_words  %_uncertain_words  C3'        C5'  \\\n",
       "0          0.004875          0.009199           0.010929    1   3.864345   \n",
       "1          0.003258          0.011105           0.010876    0  12.028832   \n",
       "2          0.011593          0.006271           0.011403    0   3.369134   \n",
       "3          0.009686          0.007144           0.013319    0   3.299697   \n",
       "4          0.004518          0.010047           0.011261    1   3.726269   \n",
       "\n",
       "         C6'  one_hot_Manufacturing  one_hot_Other  one_hot_Public Services  \\\n",
       "0  11.111111                      1              0                        0   \n",
       "1   0.000000                      1              0                        0   \n",
       "2   0.000000                      1              0                        0   \n",
       "3   0.000000                      1              0                        0   \n",
       "4   5.000000                      0              0                        1   \n",
       "\n",
       "   one_hot_Wholesale  Trade  \n",
       "0                         0  \n",
       "1                         0  \n",
       "2                         0  \n",
       "3                         0  \n",
       "4                         0  "
      ]
     },
     "execution_count": 2,
     "metadata": {},
     "output_type": "execute_result"
    }
   ],
   "source": [
    "import Configure_Dataset\n",
    "data, y1, y2 = Configure_Dataset.configure('Competition1_raw_data.xlsx')\n",
    "data.head()"
   ]
  },
  {
   "cell_type": "code",
   "execution_count": 3,
   "metadata": {},
   "outputs": [
    {
     "name": "stdout",
     "output_type": "stream",
     "text": [
      "C1                           5.649485\n",
      "C2                          -2.068874\n",
      "C4                          -0.477892\n",
      "C7                          11.627358\n",
      "%_long_sentences            -1.595377\n",
      "%_long_words                 0.102489\n",
      "%_positive_words             0.943627\n",
      "%_negative_words             1.188264\n",
      "%_uncertain_words            1.397555\n",
      "C3'                          0.091211\n",
      "C5'                         13.405536\n",
      "C6'                          4.372685\n",
      "one_hot_Manufacturing        0.006074\n",
      "one_hot_Other                2.951789\n",
      "one_hot_Public Services      0.435111\n",
      "one_hot_Wholesale  Trade     6.660788\n",
      "dtype: float64\n"
     ]
    }
   ],
   "source": [
    "print(data.skew())"
   ]
  },
  {
   "cell_type": "code",
   "execution_count": 4,
   "metadata": {},
   "outputs": [
    {
     "data": {
      "text/plain": [
       "<matplotlib.axes._subplots.AxesSubplot at 0x7efbbfbf4a20>"
      ]
     },
     "execution_count": 4,
     "metadata": {},
     "output_type": "execute_result"
    }
   ],
   "source": [
    "data[\"C6'\"].plot(kind='hist')"
   ]
  },
  {
   "cell_type": "code",
   "execution_count": 5,
   "metadata": {},
   "outputs": [],
   "source": [
    "import Transform\n",
    "data = Transform.skew_transform_square(data)"
   ]
  },
  {
   "cell_type": "code",
   "execution_count": 6,
   "metadata": {},
   "outputs": [
    {
     "data": {
      "text/plain": [
       "C1                          2.411935\n",
       "C2                         -2.068874\n",
       "C4                         -0.477892\n",
       "C7                          3.415125\n",
       "%_long_sentences           -0.007357\n",
       "%_long_words                0.102489\n",
       "%_positive_words            0.416768\n",
       "%_negative_words            0.619619\n",
       "%_uncertain_words           0.749565\n",
       "C3'                         0.091211\n",
       "C5'                         5.348041\n",
       "C6'                         1.291875\n",
       "one_hot_Manufacturing       0.006074\n",
       "one_hot_Other               2.951789\n",
       "one_hot_Public Services     0.435111\n",
       "one_hot_Wholesale  Trade    6.660788\n",
       "dtype: float64"
      ]
     },
     "execution_count": 6,
     "metadata": {},
     "output_type": "execute_result"
    }
   ],
   "source": [
    "data.skew()"
   ]
  },
  {
   "cell_type": "code",
   "execution_count": 7,
   "metadata": {},
   "outputs": [
    {
     "data": {
      "text/plain": [
       "array([[<matplotlib.axes._subplots.AxesSubplot object at 0x7efbbd8f5208>,\n",
       "        <matplotlib.axes._subplots.AxesSubplot object at 0x7efbbd9097b8>,\n",
       "        <matplotlib.axes._subplots.AxesSubplot object at 0x7efbfd2e4c88>,\n",
       "        <matplotlib.axes._subplots.AxesSubplot object at 0x7efbfd335240>],\n",
       "       [<matplotlib.axes._subplots.AxesSubplot object at 0x7efbfd3327b8>,\n",
       "        <matplotlib.axes._subplots.AxesSubplot object at 0x7efbbd8b1d30>,\n",
       "        <matplotlib.axes._subplots.AxesSubplot object at 0x7efbbd8602e8>,\n",
       "        <matplotlib.axes._subplots.AxesSubplot object at 0x7efbbd883898>],\n",
       "       [<matplotlib.axes._subplots.AxesSubplot object at 0x7efbbd8838d0>,\n",
       "        <matplotlib.axes._subplots.AxesSubplot object at 0x7efbbd7d6390>,\n",
       "        <matplotlib.axes._subplots.AxesSubplot object at 0x7efbbd7fe908>,\n",
       "        <matplotlib.axes._subplots.AxesSubplot object at 0x7efbbd7a7e80>],\n",
       "       [<matplotlib.axes._subplots.AxesSubplot object at 0x7efbbd756438>,\n",
       "        <matplotlib.axes._subplots.AxesSubplot object at 0x7efbbd77e9b0>,\n",
       "        <matplotlib.axes._subplots.AxesSubplot object at 0x7efbbd727f28>,\n",
       "        <matplotlib.axes._subplots.AxesSubplot object at 0x7efbbd6d74e0>]],\n",
       "      dtype=object)"
      ]
     },
     "execution_count": 7,
     "metadata": {},
     "output_type": "execute_result"
    },
    {
     "data": {
      "image/png": "[encoded data removed]",
      "text/plain": [
       "<Figure size 864x576 with 16 Axes>"
      ]
     },
     "metadata": {},
     "output_type": "display_data"
    }
   ],
   "source": [
    "data.hist(figsize=(12,8))"
   ]
  },
  {
   "cell_type": "code",
   "execution_count": null,
   "metadata": {},
   "outputs": [],
   "source": []
  }
 ],
 "metadata": {
  "kernelspec": {
   "display_name": "Python 3",
   "language": "python",
   "name": "python3"
  },
  "language_info": {
   "codemirror_mode": {
    "name": "ipython",
    "version": 3
   },
   "file_extension": ".py",
   "mimetype": "text/x-python",
   "name": "python",
   "nbconvert_exporter": "python",
   "pygments_lexer": "ipython3",
   "version": "3.6.5"
  }
 },
 "nbformat": 4,
 "nbformat_minor": 2
}
